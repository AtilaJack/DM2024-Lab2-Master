{
  "cells": [
    {
      "cell_type": "markdown",
      "source": [
        "# Student Information\n",
        "\n",
        "Name: 李清濬\n",
        "\n",
        "Student ID: C110110225\n",
        "\n",
        "GitHub ID: AtilaJack\n",
        "\n",
        "Kaggle name: 電腦與通訊工程系李清濬\n",
        "\n",
        "## Kaggle private scoreboard snapshot: ![pic0.png](data:image/png;base64,iVBORw0KGgoAAAANSUhEUgAABdMAAABgCAYAAAD2DutAAAAAAXNSR0IArs4c6QAAAARnQU1BAACxjwv8YQUAAAAJcEhZcwAAEnQAABJ0Ad5mH3gAADfwSURBVHhe7d0LfFPl/T/wD20hXDQdapiXduhaby2gFGVrf4jtGKUi0DkGKAJzYLdx0R/QOUvnVnAaq66UKdCNUn77cXEC8mMFpqXMtSL/VlFab+0UWzdsVSRzjCCF9AL/5/ucc9IkTWlBhxQ+b14POefkJE3TpH3OJ8/5Pt1OKCAiIiIiIiIiIiIionZ1Okxn5k5EREREREREREREZ7Nu3bqZS1++dsN0hudERERERERERERE1JV9meF6mzC9vRCd4ToRERERERERERERnc3aC8+/jFDdG6YHhuW+6+YOepmIiIiIiIiIiIiI6KzUrRt8Y/PAEP2LhOo6TPcLzs1l76Wx0maZiIiIiIiIiIiIiOis4Bui+yxb4blviH66gXq348ePe9NxCdB9w/STBetERERERERERERERGeFdgL0YMvCd7mzvGG6FZ57m7FRL6t92o5QF+Y6EREREREREREREdEZZQXl+n9FAnN1ERISYoTl5roVpFvN4rvcGTpM9wvRzaa2oqWlRQfp0hqONMDW02YE7OaNvdQ2IiIiIiIiIiIiIqL/uIAQXK+pbSESloeE6DBdWmhoqLEtSLP4LnekW0tLywm/EN0Mz1t0gH4EW7f+GS/v2oXa2lrU13+kb1S84y+4Oqq/XiYiIiIiIiIiIiIiOht4PI04duwYTpw4DtdnhxBxeT9vuB4sUD+VMD2kTZCuLmVE+mH3YeT9bgUeedSJl17a6Q3SiYiIiIiIiIiIiIjORjZbD4SH2xEaFqbXdfUVM/v2zcKlCeuyM0LkP987OK7uvKmpCdu2bcMf/vC/eiciIiIiIiIiIiIioq7iwgsu0JeSdUvm7ZuBny5jZLpa0Om8as3NzfB4PNj1/8qMPYiIiIiIiIiIiIiIuiDJuiXztvJvycIDg/XOBuwhejfzhpLQS610t/swPvjgA70DEREREREREREREVFX1NjYpDNva3S6zsLN605ViBWkW03uNKx7GGukExEREREREREREVGX1tzS3LbMi1ya158KvwlIpUkhdknqiYiIiIiIiIiIiIi6Mj0qXbXAHFz95y350lnGBKT6P587O346uTwRERERERERERER0dlDsu7AAN1Ltpk6E6q31kyXC7P53gkRERERERERERERUZcUJPs+3fRb10zX5NJsp3tnRERERERERERERERnC511+2TfmmTg1vIp8JZ58W3eOyUiIiIiIiIiIiIi6qokOJcLn3a6dJhORERERERERERERETtM8L0gJHoXySdJyIiIiIiIiIiIiI6G7TJur9AVRaOTCciIiIiIiIiIiIi6kBrmM466URERERERERERER0rvqCGThHphMRERERERERERERdYBhOhERERERERERERFRBximExERERERERERERF1gGE6EREREREREREREVEHGKYTEREREREREREREXWAYToRERHRKWppaYGnsQkNx47h84ajOHykAe7PjyCh8C78l9nmlT2GP77/Z5R9UmHeioiIiIiIiLoyhulEREREnXD8+HF4Ghvx+ZEGHDl6TC83N7fo7SdOnND7fNzwKT4y2+Z9O7Dg9RxMLv2ZDtd/88YqfHj4Y70fERERERERdT0M04mIiIhOQoLyY55GPQJdRqMfN4NzERISgu5hYejRvTtsPbrj+/1HYqhjEK7o/XVzD4OE60v/thZ3/jVdh+pW+E5ERERERERdR7djx46dkFOVpTWrptZx6JAbt912u7lLW8U7/oKro/qba0RERETnpqamZhxrbPQLv8NCQxEWFobuYaHo1q2bubWt+iP79e3KPqnEU9VrdKBukbD9+1cmI/2GH5lbiIiIiIiI6Mv2fu0+tDR7EB5uR8+ePfXxXKjZZHCUNDmus47tTnaMJzgynYiIiCgIGY1+1OPxBukyAr1Pr17o3asnenQP67CTFdHnUkRecBkmXT0a67+bi/tjp3lHrEuw/nT1Gj1KnYiIiIiIiLoGhulEREREAWRi0camJr0soXmvnjbdQkNbu07G2XyH8M9//hOffvopPvnkE91kWbbJdbKPkGB9/qB7dKh+X8xUb6gupV9kolIiIiIiIiI6+zFMJyIiIvIhQbpMLCrkFMALevfSo9KFjFI/fPiwDswPHjyIhoYGNDU16UlILbIs2+Q62Uf2ldvIbSVUl9Iuz45Y7A3UZaJSBupERERERERnP4bpRERERCYp7eIN0sPCdEkXq5yLhOMHDhzA559/7heed0T2ldvIbeU+hJR/kVHqvoE6S74QERERERGd3RimExERESky2ahV2kVGpPfuadPLQkq2SDuVED2Q3Na6HyGj1H0DdSn5sv795/UyERERERERnX0YphMREdF5T0qwHGts1MtWjXTLv//9b++I8vZIUN6obi+to8Bd7kvuU0ig7lvy5anqNfqxEBERERER0dmHYToRERGd9zyNTd4Qu6eth7e0i4wiP3r0qF4ORm7z3nvvoaKiAh9//DFqa2vx6quvory83DsCPRi5T+t6Kflyf+xUvfxRw6eYX56tl4mIiIiIiOjswjCdiIiIzmt6VLlV3iUszDvZqIwgP9mIdAnEq6urMWDAACQkJOjLyy+/HP3799eXO3fu1OF6eyPNfe//vy6L845Of9X1Fj48/LFeJiIiIiIiorNHt2PHjp1oaWmBtGbV1DoOHXLjtttuN3dpq3jHX3B1VH9zjYjOfdVYn7kWleZapw2aguw7Y8wVF0qezsX2T8xVcVky0u9LhOPt5Rj/wCtIeGgp0ofVI3/8QlSMW4AlPxwM97Np+NFL38bDOTMQ19u8nfC4ULW1AM7yKCzJiccL06dipX0+ti0ZC7uxA9wut/rfZLPDYW8t2+DaOh8/2hKHJUunIFpv7tz3OHiKE5Osb0l4KrF67kKsvDQDO7PijU215Sh577BeDmS/9lYkRLU+DuFxu+D2PtDOs/VxwO77nOjvuR7v7CrFls0bURaRgR0PRWJPaS3c5h5t2KOQNCwK/o8oiBY3KgoW4NHKOPzCqX4Wfc3tp6Qeq+Xn9E0ndj5kPFftc6PkkYU4cNdiTIoyNwUoeyQJGcWjkL0zAwnmtkDuylz8aIEb6RuykGC8MPzo+9g7BXk549DP3KYFvF7o3OZpbNQj00WfXr0QGhqiA3CZMLS9ki0ej0ePSL/xxhvRs2dPPcHo3r17cfjwYVxxxRXo3r07XC4XPv30UwwdOhR9+vQxb+kvJCQE/fr10yPhN9S+gJ/vflJvn3P9FPzsxul6mYiIiIiIiE7P+7X70NLsQXi4XR+7yfxYoWaT4zFpcjxmnZ1sXbaHYToRdUI5nMMzUWSutXLjQL0bHrsDkcGCx2Tf0LQe+WOS4Kw2V0VMBnZuG4eyuxOQUTUWq8oWY8iLs3HDfxcjwVmGdaMrMXf4bBRGyH4zEKlvJIFsKpylRlBu65+IzN/PQu3EiVjtsSPSYSSmKc4sHJiWhkK9ptyRj7/nJJorblSsSMdPs0vhunQC8v7sRErfUsz9ps/+7UjNfx9LRsiSFda78ae5KXC+lozsvy7Ed/rYcWjjRIzM9v1GW8VmlGDbjyPMNUNJ+tWYvtlcOQWt9+VByYMJmL7RJzK3RyHhB/OR/f06zByTjSpzcxv6Z2A9t0G0eFCzPRdZjxSgbD/gGOfEpscnILLdnFntv+sl1ARN7w+gKHsRCi+dgbx74sxtASIHI2WgA9i3FuNTFqGiJQaZLxQiLarta/CQqx5ujw32CAfCzW1a9AysWzVFf0/u0kUY/+O1qOmrXl87FiMpIFDXz/1WOxyXqj+q5jbN77VL57rPjzTg+IkTxqSjvYxXgoTiEpAHI0H7nj179D4yOv2b3/ymHtG+e/duvS0uLg4RERE6SH/77bcxYsQIPVK9PRdccAEuvPBC1B/Zj0l/madLvdx8yUBsHPlbcw8iIiIiIiI6HQzTzzD367mYOX8L6hBk9OPBSqx+5DGsLK/FIY8d0Ykz8IuHpgQfsempR9GTmcgprsIBtw3hUd/GvQsWYtpNQYZKUtdw+F38sSgXv3vvA3zY2IjwHldh4KBpeHT0d/ANo0LAOcP1djH21JkrfiqQP6cArnFZyEz2G9frFRmXjNhLZckM0681Qm0dYr6XgU0/qcD4/y5Gym/3IO/WCswdmYZCGeVdOAE16SmYvtmB9B2FmOMdnWzeT+952PbUDHXfNqClGHOvno2Sgcm4LdaIVQdPmYcB/6hU713jMVb4hekGGbU8edJyHBibj7+o6/S70VOL1XMXoWLwdMyZEIsDGxciI7cYdS0OJP1sGZbMGAx7qOzYTvjuDaeN62u8gXfgequqZzOx5i1zxcehqu0oetuNyGETkOB/Ey0ieR7mJDqMlbfXIuetfoitW4mZKypbQ/99BRiTlA20+brm84ggYbrHjbq9r6DoDyux9PlKPWrePnAKMh9QjyMuBpF+o+EDBfnQ5FT4/pxq1WO/LRtVOgi/Fwey/c8cqCvfiLJ9EUi4M97/8VtnPJir1s+5ZkQGHo+pRbnP2RH6Pg7GIGV0rH8gr/g9v3TOkv7PkaPH9HIvmw3duxu/wCUIDxyVLututxt/+9vfcMstt+iO2Lp16/RIdLvdrgN1Cdejo6PRo0cPvd9bb72Fiy66CMnJyea9tCWdt69/3Sjx8vLHe/CPQx8hNXIE+vTqqTt4RERE5z05S/LZhXj096+gRnVOw6Nu7fzxtO9tXR7Y+sfie/c7kT46wv/szPq1mD65ADXmqq/on6zBqrt9+9Ie1D23ANOfqoTHZyCHxbWrAI/mrkVJrRs2GeTykwV4+E7rOMIHc4JzS0BG1C92FNKfyECKPh6m9rlRlJ4K52syKK4EmcPMzSdjvl+jO7s/ndcYpp8p8gf3qXsx+elKyF9Yj2csVn2wGEnm1XCXGqGfOwopd8QhHIewZ3MxauxBRj9a+x50IGF0og6iDlVsQdFeIC6rCJt+GCQlo7Pbx2swdlku9jSb67563YY1DzyKEcHP6O+S2h29e7KR6c1u1O13+4zkNkPWaCe2zUrEgd8nYPp7s5A5aCOcz5qBOYzwtG70MrycE4X130+Bc99Y5O1cjBTve8o/lNfMwDja+7V8maF3kDBd218PlyMCDqtj21CLkrXL4Mzdihqz9Er0uCw8nhX4QVlAGRlLmHqe+spz0fkwvT11K1IxPLva5znshBfn46q0rV8gTHejcOYQzN2uFm12xI2ehTmzpiAhbAsevCsThf+MQfqfNmBOTMDP24fnoAtu3/dGSz3+lD4VznL1bElOqa6z9U/GnIzZSI1z+L+mAsqruF/MxOQXE/HMr5PheXm5OtCoN69pP0xvU4pHcVeWoiYqGnsmq++5tvUMhuCM13X0KfysqOuS8i5S5kVc2Ke37jhJX+jgwYN6m+Wzzz7Dv//9bzSqfWVk+mWXXaY7XUVFRejbt693NHpTkzGRae/evfHRRx/pmurvv/8+Ro4cqW/THrkP6djJbQ8fMeqo23r0UK27XiYiIjp/udXxiAyyUf2zUeMwRPXJjeNpu+rzFqk+70n6dS21yJdjir/ZETtiFAao2x7bV4rCchccd+bjZWdia6D++iLcMHELIker/QLu0m+Qhace6x+ciIwtbthsHnii/PvTNaoPL2epOuLH4jv9VU/3YAX+tL0WnoEyYMin391QCWfqROTX2gK+Lw9iM4pUP7SdWod0dmovI/KeaWvuR224t8/HLTO3qne675ngHThpBkDk78sO0zkBaTvKFiZgfF49Up4owbZ5AamMlFRYlI7Cg+qX4rYi5DmdyHYuw45XFyPl4FZMzyz2C9jqns1FoSsCczaVYd0S2deJvKIyLBnlQcWji1HSYu5IXUQjNj9vBukh1+FHd23CG5lbsSFpmDGy+egLuHfLa7J0brlmFp5ZPM7sbDoQOywes3+XgxS1FjvLiczR8UgYNtgYtWyLR+ayWYjV+wbYkokxP1mLCr1iR8qvl2Gaoxo5kxeh4soZ+J+H4+HeMhszN9qRtjgDsQ1b8avs0rah9eY0XPXNq3HVmALU1VTpMiaFaWpdtqk290UJr2W57ehxCamt/a5KSMLQq1ORv0/CZbU+QHXUs1uDdFGzZRHGDzH3l6+nt9rgqdqInNxcv7b+zXark/8HuVD1fDGKpL1mhM11r8l6ubfciru61Lje20pRFfShqoOSx1XnvWgP3v3bHmx6YgLCX5yDW0ZmqucxEZnr1+gg3f16AZwrKnWHJ5CtrwMOh9Hs6iAhZ+pEOMvV/eZtQPo1aof+UYg+WIycmepAY2I68l9zw36ReRvfD2XU70b7CCe2OZPbjuLpLHWwU7Nf3c/gRMRZB0Wjc7Dp4Qnq9Sqv2cA2AYs2Ga9rOj+0HDf+CFsdKCH10H3V1dXpiUIHDhyoS7pIjfOvfe1rOgCPj4/XIbt0ymRggmyXki02m/odoe5HaqXLqPOSkhIdlLfH+pryGOSxCOuxERERnc88Ly7E3M0uxGYUYkee7/G0C4UzF6Co/bnC4Xp2AZxvRyBtfRm2mbddsk4tz4xQ1y3HetVP9PrskOrbRiD1AWM/39Z6tmI9Vk9NQsZ2dXy/QT2G0eZmi2sjnL+phuPu1Xh53WLj9nlF2J03Fva3s+F8vrWPUfX7+civdSA1v8zv+1p1hwNV2Quw2vex0VnOg6JMOe4ci1Wv+mZEy5DauxrOX21UR2wUVEOpen62wjYwxm+AFNHZjGF6Ozz2ZGTvKMGSHwSc+iUaXsKGrW5ETl/o/+mifSzmqD/KeH4t/uTzm7LmvWrAMQpJA80Nmh1xg2OA5lrUtA60pDPt+N/xu6fHI/2N4JNFBrcbf3nfWLr6lkfx6I1XoV/4FRiW8hs8Zr4ePHXv4kNj8dwSMwPPbNqAdctmIfXmRAzwDtqNRPTNMYiJG4fMlRuwaUMWUi4yrwoUE4PYfWux+kVzPXQwMh+fAIdbwl71ZhinOh7xQFn2QhRdNAOPp0lHN1t1NM39LfYYpNw5AZNGRaHnsIXYXVaG3a+qtmEWovUO/RAv1weWAFH6jchA3tJlyPvtLCTIGQRh/Von8rxphnHd0iykyvcXuO7j2EeVKNtV7tcqPmoT+58BVcifMxszpa0wCqFUrJD1bJQc0Kuo27LIuN7bFqGwvd899ijE9veg5rlFGDNkCMbn1iEhawPefDkfaTFuFP0yBUMnqp/JH5bjhX3mbQLJKatqvxuSZmN9/WDM2VSkDngcxu/TuAxse+Md7Fw1C0m6DE8Krrtlmjq4qG/90MS9FTMHJGDuVvOXafVGv1HpJ1O5djlK9M1qsTQ1CSNT07Bev34cSMpQP8t7YmG72IGoQYlIHBaPwYMGI36YuXxtJPrZYpGmfuaZI1ji5Xxw/LgRcFsBtpDR5RYJuWU0+pVXXqnrocso8zfffFOPSC8uLsbLL7+s9/n73/+O2tpaVFVVob6+XjcJ4GUi0osvvhiffPIJDh06ZN5rW75fM9R8LNZjIyIiOn95ULJ5K9wRM/DwDL+Db6TeNwuRzcVYs+UkMeWge3VfPm2w/1F9bNxg9X8lKnwmFqrbJx3GKER3dBL+tbOwqWwD0m+yt80K3lPH95dGYdL34/2us48ap89yr6u3HmstSrarvu2oBXjcb2S9HUm/XoAU9dg2bGFQ0GW4tmDN80BK1mP+VQrsyfjFGnX8cXfQYWakVDyZifWYgMcfGade/e1ocaPquVxkZGaqlo3Vr38VA9iIWjFMb0fSA4sxqX+bP42G6nKUNQMJ35Y/wP5ivzsOkShHuU/94+hrY9Qv1wq8E/DJcl2d+uNoj0Msqwh8NSRI/+1kPFz/d/xx/fdPIVAfiscyd+AN1bZ+9ypzm+gBm1Ur/RwrcdvvZiO0riuYittHJmB4ahpmPrgAa14zSiOoVzPKlmcj6+dpGDM8Ad+9fT7Wy+ltd05AfGBVg2vHYer0eUjzqWtmS8zCy2+UIHF3Kobe+BjCl76Dd/csQ0pf9Z76yRrseNW3ZropYhwy5RN/qY3d8hJ+lZCARyvscDisTm0MJukRAdOhp7r0eTvbouKRMjoZ0fWlKDuiOj05OZhk5ab9YjHk5sGqxRqj7APXfUTenY+dO0v8mn8txTMlEUs+eB9/V23bfcbXT3pij1ovRNqIGdhmXuff3sGbr5Zg28/iA0r3qJ/mumm4YWACxvx8rR69bu+rDmIemYgbrr4aV12fhJnr6hE5PV+H65PaHGy41L7TMHSg7FcL+4gs7HhDHWwMDuwa2RCZOA95JXuwe12GOrgoR/6cJNwwzRy10XIhIvu7UfjfCRi5qBzuf9W2+eCiriUCkerbrQvYXrarEnU6lY/CnGUZiD1YiozJ81HidsPjqkPpkxMxNDUT+e/1QL+DW5CjOmUPPncI0bZyOBfNx5ibUjD32Qp4+rTzN4DOKdZo8RCfU/lkhLlFRorL6X/vvvuuDs4lFJeR5y6XS69LiC4j06U++ocffqivl5IwEpzrUwjDwnS5FxnN/q9//cu817YCv6Y42Uh2IiKi80M1ynepi2HfRlzgMVbMKD3Ypey1dqfah2Ngsur3x3jn0rG49ktQHYNYYxSOVvOPanWMEYl+LR6495ajqLwW7jaj3iMw7dfzgs+TJoZlqGOCItX3Ndct6uvJ2a3h3rMw61CzV130vrBtIG9uq6o+3UmI6EzzvKKOKxGPxJvVTy7g9dPea5CUt3Mx9389SH1YHQ+2l6RLqaa75Nh0OV4olWM9dfw2WR2vbT/Jh2hE/2EM00+D55MDcKs/vFG+Oaqlr11/mlZT2/opcuSUeZh2aSWypmZitfqF6qqvxvpfpmD6OhtSfj0LCedY8NolWEH6fnMc7PHPTiFQ7wF7+MXop5q9h7lJfLwGS6wR67HfwTeMxXNC7J1OLJoSiwHjFuN/ninCThkB/v9UJ3FQDOZsK8SSUbG47Xclxshw1Xl8ZuV8JFwah7Rft61dLQHnpIcSYfuHuSq1zr45ANddfzXuXucGmosxc4hal+BWyqrcmISRP1prllbxUb8FTvlk+ulSuMpLUCSd4etU58UlHVU7wsPV+0x/cr1Kl5SJvdKnp6y4X5yPyU9Ww3FHPh4f6/OX+/n5GPqtBNUmYql0cAPXffiVizHbmBX1usa8VV6mKjvJ3B44tP4/oKEYS/OM3z0lmVORX+tCWZ48B2abOw0jhydhuHp+r1LP+Q3fSsKY6VOx9HV9E69+196K234wAZPuy0Le0sVIH2GHVfXCET9DB+A7Zodj/U9TkfFi4KgAB8JbauC5fora7x1sunkjRqqfrfH8mBOTWiV6dJuIP10+A6te3oNNGWORNn2c0dHsm4jMP5ch704H6iqqcSBeHZhsWIbMjAUdtGXYtDMf06zPNKJmYNsL8xDregWF5R4cqNiIPaqjO+cJJ6bVZ2L8L0sRHh8P+65MjHnShoe3lWHHilkYIkF6u0Mj6FxiBdY+WbrfxKMykeg3vvENREVF4dZbb9W1z6U+ekpKCmJiYnDkyBEdrFdUVGD79u165Pr+/ftRWVmpJx+VgF3qp8vId9/R54F8v6b1WBimExHRea+hHgdUdzOwL29Qx94Sar9X2/ZYIQiZ10eOxYty03D7oko47lbH6d6BIR64ZboU90b8aIDqJ6dMw8y7U3CDWh75SHnQ0oad50bJk8tREZaMiaOtSDUasXLmekWlLlfp5+1KoyRmTV2nvi/66h34RI7BLlHHqLkYH/D6GZ8bvDTmea+lFksXLEfdqIV4eFT7B15VT90L5+syP8IevFkmA9jK8OarC4GCgrbvHaIzhGH6aTB+UbYjIsosMeGjdyLSf5+FFPWHOUv9Qh06PBUZ6+oR/cOFyEzm55NnXGCQbjmlQD3A4b9i9opcvCNZSL95WJl8hbH9nCG1ARMwNCkFY8akYLgOl6UlYeSYVIxMstZVG27tMxWrg75VGlGzYrYRqvqwD0zGJF2WxWip48bqy4Q2I58jEClvMtWx3iOjkCtrsX7zVqB/vHrv1aPmrSpd6zDCcQi1epRyFcxKJ61cGzF35la41H5XhxXDmWmVBVFkolI9crsEmfJBQOC6D2+5GJ8mpUEG3CPLM/SI+MhxEkjL9n7Gjf6DqpY9hiJz4k9773o4Jy+Hy+7CX60R2xVVqKuvR509GYvUY1pXpDoi7+zBopuM21hsN81A9q+zcO9gD4qeWoCsddWwS4i+4x09ijxFztrpbYfnQDXWp6VgbkCgHpel7rdQ/c5T+wV7jpY8MQ9J1oz2jihjxH+oHXE/Xoz0RBmHY1LbZDb3NzfMQLR86Fi1UpeoefCRx+DMbtseTJfyNSvxjnHrVlGz8MyrUmYmAgn3L8a9/auQn5mJnBeBlCcK8cySHGxaMQvRH63F3DEJmJzvwmCZdDXgTAQ6f0kQ7ltTXUaby0jzSZMm4ec//zlSU1MxQB0sSb10Ke/y0ksv6fbOO+/okesHDhxAr169dLkYIiIiOgWuAycJlCMQHSxjD8o8nlHH4jOfLkX42GV4Rgb4mNdK4G2PGYuEQaOQvqEEu9/Ygzd3FmLRODtqVk3D5FUnyQA6ULNiKqZvdiEl5zGkejPDCHzvrnhg33I8+GQl3NYJagdLkTW/AHXWGc/UJejSvvZXkDNpI8LnrcbON+RM6yLk3RmBiqcnfqHXz7mqpmA+cvbGIztr7EnGMFWjaLN67gLLIfVNxi/ub1spguhMYZh+Gnraw82lIFyuNhNLuJ5Lw9DURaiRifR2GnWdd6yagX7Pz8bwiQWo4fxiZ9Bh7PnLn/B+v9tw16DvtW0DbgH+thqbPz6FwOOzF3Bvzs+w+aha7nUb1vx0Kq4+V99Zoxcbo8+9bbGeqDF65gb/7TnJxv7B7FqIydltT1mMvH0+JvauwrG4WViUoW5fvhVljim4V9do8WeTYPWaWdgkpVVWjYKjwYG4e9V76v+mYuQjlcDAcUjpH49MuX5TBoYYN2vV4MYBHTrXo2zjRqx/djtqrFM4K1aZI7kfM2qKB653gnEq37d1rXZ7TKIuKZMQdaFx5X/KvgI8mF8Pu93oZCQ9kIGE0EOwj83Hbm8ZGnNizbhxmCaP6RpHa614S4OM6J+G4TIKZ3o2Cveqn03iWHynvxulv5mK4TKyPWEIrro+BTlvyw1k4icZBa9v3YZVUsdqkfuW4VeZuSj5pwNJ90mZHPUaOtlnivsrUFLh8pmANgrTntqATZvatofbncXdhQPqF7OUr7nuW/JhZjXc+ufvQtHPU/WHQMOnL0fVEb0zXOUFyEhNwHWp1mSzdC5rLamiLzTf+ukdkUlIhwwZgjvuuEMH5uHh4bjxxhuRlJSk348XXHCBHrl+7NgxNDebn3YF4fs1rcdiPTYiIqLzVm872j/6Vn28Tk/SGYFpa4xjlR2rZiGyfDZGDpcygObVMrfOfYuxbnUWJg2MgEP9DbdHxGDakkI98KTqqQJjtPgp0mfDqmOf6B+u9j8bVnHcuRSr7nSgKm8ibhgwxOhjD0nDCzcvRrZMbBpub1OOkc5ibhf6zVuDVT+OR6TdBlvfKKQ413yh1885Sx27zv1NNWIznJhkDbIKpsGYYzB28OA25ZAc305sO5CV6AxhmH4aHI5L1P9uuIOdq6N+gcoo2Oj+Vo2BSix9pBSeUYuxyTkBsREOdXsHohPnYdXvZiDy7WxkbWStpzPnQgxJnoecu3/VfrtrNu643Ld+y0l8vAZjF/8Cz0uQ3ud7WPPAoxghE1qeq7wlT6w2H0Vqc43qAPptTy829g/moAvugRlIH2euex3AIY8HRT9PwnU3paHwYDxm3xVYI8aj3mLq9pKsNrt1QOVy2fCdxwvxuxFAvwkrsW1bEXauHIee+jrV9tXr96TnkFo+aEay/VvriK+6Q62HRSHaesueggMvZvtM6Gk054udeD9/6R+g1SP//mxUIR6ZD9xqbLp0AlaVLETkW8Uoet5qrxjhcN0rPtuKUeV7EGI7gPLnys2a42q1r0P9gCtRtn0L1m+vBK6MR0LiFD2yPW9VoQ7D9Qz18wtQo2/hQpXPfQe2whIJstWByeMLMfHaRlS9GLDP2/7Pn6s0T58i6fSWoqnF0ok+rzWfNvd5c5dA+7Zg7pghyLLNw7qli5F2jdrW5oMhqxkfEEWOm4e8R6ZwRvnzQGuY3pqmS430U9WnTx9ce+21esS6/J2//PLL9aSlsiyj1qWMy9Gj8sciON+vedxbeoZhOhERnefU31EZd+E+FPTgG67P1EV0ZKf6bNKv9R6LFzmR5NqKubnG5P3tcyDpu+qYxF2BPe1NvN8OCdK/m7ZVn+m6KSs+yOhbO5KcZXhz2zJk3j0KCaNnIW/bHux2RsH1rrq6v/G909kvMlom+IpCSnLgRF+n//o5d7mwPlMdu14zD0t+2MFB+MnOTAmztZ1vgOgMYZh+OgbFIwH1KClvO0zV9UopanTtZnPDPvVLU/3dl0/S2vzxHPxtXQai7C1WeuqK3LXLkPx0LvbIQEMJ0tN/dW4H6cJb8sRq+UhVm2MzSvy354819vdTg1oZ5Zy2QZftiG2TVUUiYeoEDJE3ijynfS9BeJu/juX4lRWa7l2O8b5haoJq3hIzPtsnLtchrw78pwbUXm8oxgbVv8XYcUiyHk/cdGTriUsX6AmN9HpWBtLnTUFC2x6wkowlPiHsyfQMU68bdSBQsyIVI39ZqroRXxZ1UBDrQMLDOX6f7NtsbpRk+4b95oiI1wt8ts1Gvu+voNBELNlr/BzfVQcZaQtWYoeMan/CONsg7ofy3MxAZPlaFH3kQfhlY/HwhkLslFIseo8q5Pvcd2DL16F4NVbrkixB2h98H4wLL/xfuTrOGIdR3rP4YpBZ4vNa82n6g5Eg6rZvUY9qMBKHDVYHKYPhkNNmqzYiJzc3SNuoa+/ZY8YhZSC7Z+eDkBAjsG7xqVnevXt3c+nUDBo0CJ9++ilqa2tRV1ena6ZLiRePx4ODBw/i888/N/dsy/drWvXTrcdGRER0/opFfLzqz71U3jZU21+OEnV8ERsTOADHYgzEcemROAHs8YiXjLOqyuyTm4N22kw46uNUPmuvLcDkmepAY/Ri/PmJxKBlLHQN94Me1e9MRtpDqo/90AykxKg9XRUoV99Xinzj1CVERkiI7oEnyOvH0yKvv/C2ZwSfr/ZtwRp1iIfqXIy05kmTliSDw4DCNFlPRb58+NDfKKNc90mQI2c9VxrRV4Nh+ulwJGKUnKpTUIAK3xGmLdVYvbJSveETW+s8Sw31MLVvZZBJJ8yJRWI7X+iNzhLuvz2O5JUFRo30sGFwTp+Ngc2f4cAhqx32KUtxDvGbOFKa/ySb3iYjMII41qz6reEO2IJllEdK4ZyajbLeY5G9zokUbEWOej/5P4/xeDhgJLFMSrlqm/82aTvyMtT9mJOiWm2N/0jjmv9dhqJmGyaN7aCj6t6Oud+ahvx69fa/OS5g5IsNdhkx4wgyE7+faERdozoCH9SiqqYaNZW1OGZe88XZkJRVok8T9ReBtG2+gbPx4UfghyJLAsujeOpR9MsU3JCSiaVPZqMo8HPD/aqD/0ENCn85ETfckob17ghEer/5RCzxue/AZgTeY7EqyHW65STqe9Gq12Ll6+o1c8c4PVFzzV4pD1QNZ5LPa82nTd9s3MxfNTb8Ud3upnG47WSnENJ5KzTEODKWANsanW4L+kuqY5dccomupy4Tlkq5FykBI3XSP/roIx2onyykt76mPAYrTLceGxER0fnLge+MHqy6dAW6X+irao0MFIlA0jCf0a0Nbp9A3IX19yZg6Jhc/+N2sb8URVLmOjbWHP1djZyRCbghfav/cXtLLQq3qB3lGL+zZ7LWFmDMbdmouj4Dz/x2LBzt/Dkve0QG/8xHYUBQUPWH5SgLS0bqiNPrj9CZZxuRipSweqz/Q2nA66cahRtq1etnMAbwNAODIxGZAXNq6ZY1Vh9nx/1Y1jOQpJ8vKRmqDsc3r0GJ3wcVHpT8cUvbjI3oDGGYflocmPbLWYh0rcXk2xdh/dv1qHu7GM67JmLpPgcmZc1CrLmnjPKc87MYYLuc4pWLIrWvy1WLsnWLMHLictQ5xiL9B6dRX4K+QruwaPV6fGgNYmzehcynR+JGp2/LVnudS1prDPq3dmqm6/YYYutqW0eC1FbrT5pbSyD5c+9TfyoznMhekILwg+FIzViMObEuVPh93GwF1w7YUYMXsqeq99FsTJ+8EHvCjO26tWxH1n3ZyLg7CbdMTEf+a27YL1Lb+/p0SFUnd26uhLMerP9xEqbn1mDIshLszrKCdfN7lnXHOOTp72kPXs4KnOikGHOljvjwdF3ypn0RiB6kLsq3oFCGyg+K0p0FT225f5kTn1ZSbXQP6l4Lfn3R8+Wttd5tX8Jpbgersf6RaRg6MAkz19Uj8u5l2Lkz3xih7+tS1QFaV4Y3N6hODkrhnDgEQ+du9JaG+bKU/VHOJFA/hwnynNej5M/SEZ2BdW1ea0ZbIrUlA3ieX6Z+LwMp90wwD5RMjhgkDksM0mL896NzXlhoa1eoqdk40u7Zs+cp1U23SFkWqZve0mLcj9RJv/jii3HhhRfiiiuuwEUXXaS3B5KvJV9TNJuPQfg+NiIiovOV486FmNPfhdVTU5D1XDXq6qtRlD0R4/Pq1XVZmGMNTG9Q/fIhQ3DDjbNRpPvIEZh0/1g46gv0cfvqUnVbfSyejfGpi1ARFoM591h9+8G49/7W4/aSvS59jJ+TNhU51Q6kPjSj9Rj/ZNylmDs5G1W2eMy5NxI12wP677tqvYOFkmZlqPtUj3l8JlaXq+OmveVYnZmCMer7is1YgBSOZO46eicj/WcxcG1Ow/jMtShTr5+a8rXIut3IiDr9+jkf9I5Cgs+cWt6WGKvP4Ii8WdbjEa1f/zak/GQWIt1bMfOebP2+lDytJHsq5u6yBT3jg+hM6KYO9E7IQZ+0ZtXkwO/QITduu+12c5e2inf8BVdHWUOvz311K1IxPDsKqz5YjCRzm3CXZ2PyzAJUWR+H2WOQtmQNMhMD39Ie1Dy3AHMf2dq6r/qlEDlqHpY4ZyCur7mJuohdmP3g/Qg6CNbrNqx5/FG0Ox/iOUN1FmV0unrtp4yO9Z8caH8F1pfWInJmIXY+oDoWz07D0MxDyFw1G67iQpRsLkbNNRnY+RQw0zylq10xar9tMxCp3kt1pWuRk7schW+rN1OYHbGTHkPeQ8k+I6NNDVK7ezkefGSt8b5Tj3FazkosGuEwOrkjZVT9WKwqWgDPYvXHeJ3VsVV/lCMc7U901OzA1DUbkBZl/W5wI+HOePXY6lH2bDnsGSXY9mNJn43npsa7DvM5kHPagJSl7yBvtM28Dwn1T4eUPClEmu+v4xfn6zMDUvPfR/r+NNz9e6OSucGNA/VueGx2RDp8fk8lO7HzoXjzeZmDirgZWJQxC0n91eN7PhvLdrlx7L1SFFZ6MG3DHj2JjleLGyWPTcTMrTHI26F+R7bp0biwfuZELDN/wIdc9XA7ZmHbznkn71DuK8AYeV2MXoZ3lybr52mkep4SnGVY5zMC33p8erl8I8o+moBVe53G7+qWauR8NxVLG6ZgU1kW4vSooHrkj0mCszbgOfAynqNon58bnfs+P9Kg65SHhYaidy8j1D58+PBJy7K057nnntP10uX2//znP3UNdQnLpezLt771LVx//fXmnq1kklIJ3EXD0WO6PxbSrRsu6MOjaCIiIs1dDufUOciXYwAhxwHTcvDMgkTYrZHfLZXISpiI1ZC5g1R/0Pwz6i7NxcxFBSjb1zrywz5wCh7/fRZS/M5cdKNihTpuzy1uHSQixxCPq2OIUcGHW5SkX43p71nHKorZF2+X97jG4K4swNzZ2Six5jCyRSDloZVYcnfUFx8oQ2dY8NdP8IyI2jCP/6LVcWzgmdPu0myMn1mAGvN5tV0zA6sec8A5Pvj+RIHer92HlmYPwmVi55499XGfzFklTY7VpMnAKGvOqo7mrmKY/iWQWmdu2P1HvbbD45bJE22wX2SHjWdvU5fnQcWTUzF3azvVvx2jkP0/GUat8ZZarF9YjgG/jkVRynwUqi5katZSpF++Uf/RRDvhZWAHVeqNj1kOpMyahzlTEs1PrE9GAvjlyMrciH7OEmQnqvfp/mJk3LMSUcuMUFyT8H13JWr2VqD8H95PvYIYjKkymbBa8v+gTcL7Shy69lYkRMnvgrZhOhpKkfXdNNXBn4FNL2cY4W6DG64jrR37UxPkd8mubAzP3I4U9b1O3RcYprfDCtODqS7A+J+u1bUkHTfPx+NPjEV0kN9dHvUttFcZo2rFRMxca71GbIi9fyXyOjoj52Al8tMfg3veBqQPVB2o19VBUK4di1bP8P/61bkYrl4QcgKD/dIoJNy/DHl3tk7849o6H496FmDJD6wDIDNM7z0DeffIrBWBKpA/pwAehunnFU9jo2pNerlPr16qUxWiy61IvXOr5EpnyL7FxcW6g/bJJ5/oki+XXXaZrqMuwbzUVB882P/sFum4SeAuHbaWluM4Yk5SauvRXbVOToZNRER0vtB9Z9Xva+94usWjev+24NeZ/W6b3QH7SQ/dpX66G56wzh3jfxm8OYFDfV/mNuqqzNePTb1+Tv5Co1Ny5t+XdO5gmE5ERET0JZIQ/PMGI8TuHhaGXj2NDnpDQ4PqEx3Sy50hobmMSJcO2u7du3WYfuTIEV0vXUafX3fddRgwYIC5t0Fqq/fubXwq2HDMg+ZmmYEZuKB3L92pIyIiIiIiotP3ZYfpPEojIiKi85p0nnqYk4M2NTfrJiTktoLuzvjHP/6hw/GjR4/qS5lU9Gtf+5qumy6dtsBw3Pf+5WtaQbo8FgbpREREREREZx8eqREREdF5T8qqWCMQjnkadZkXIaG4TCraEdlfzvKT0Q0SokuT28rIdAnJ5cw/aRa5T7leyG3lawp5DPJYiIiIiIiI6OzDMJ2IiIjOexJi9zRrlEu4ffRY61wGMrq8oxHq//rXv3DVVVfh61//OpqamnSw/o1vfAOXXnopIiMj8eGHH+qyMULuS+7TIl/LCu/lMXR0WiERERERERF9NRimExERESndu4d5y73IPDJSw9wio8iltVd+RUagS3Dep08fXSv98ssvR319vZ7E1OVyoW/fvnA4HN77seg66eprCfna8hiIiIiIiIjo7MQwnYiIiMjU09YDYWGhelnKszQcPeYdNS4jyvv166cnE/UN1RsbG73lXWQy0yuvvBIDBw5Ejx49cMUVV+Czzz7D8OHDccstt3hHuMt9yn1bddLla8rXJiIiIiIiorMXw3QiIiIiH71lhncrUG9pwecNR72TkkoJlgsvvFCXc5HR5hKOyzYJzrt3764nH5VLCdeHDh2q2wMPPIBhw4bpbULuS+7TGpEuX0u+JhEREREREZ3dGKYTERERBZBw2yr5YtVQl5IsLS3H9TbRU+0jJVukNvqgQYNgt9txySWX4OKLL9bLcinlXixyW7kf3xrp8jUYpBMREREREXUNDNOJiIiIgpCyK71sNu+EoFKS5cjRo7o8S1NTszcQPxnZp1HtK7eR2/qOcJf7ZmkXIiIiIiKiroNhOhEREVE7ZELQC3r38o5SF1Ke5ajHg8NHGnS5FhmxfszTCE+j0WRZRp/LdbLPMbWvVdJFyH3JfXKyUSIiIiIioq6FYToRERHRScgochlBLgG4rUd3hJgj1YVMOCoj1hubmuBpNJosywh0uc4it5Hbyn3IfVmj3YmIiIiIiKjrYJhORERE1AkhISGw9eiBC/r0Rp9ePfWyTB4q233DcVmWbXKd7CP7ym1kWbYTERERERFR18QjOiIiIqJTFBoqQbkxeaiMNr+wT2/YL+ijmyzLNrlO9pF9iYiIiIiIqOtjmE5ERERERERERERE1AGG6UREREREREREREREHWCYTkRERERERERERETUAYbpREREREREREREREQdYJhORERERERERERERNQBhulERERERERERERERB1gmE5ERERERERERERE1AGG6UREREREREREREREHWCYTkRERERERERERETUAYbpREREREREREREREQdaA3Tu3UzF4iIiIiIiIiIiIiIzjFfMAPnyHQiIiIiIiIiIiIiog4YYXpAIs8x6kRERERERERERETU1bXJur/A6PTgI9OZphMRERERERERERFRV/clZt06TJf7a23d4PF4EBFxhVxFRERERERERERERNQldesmibf8a83AT1eId1i7XModh3RD7169cNVVVxnbiYiIiIiIiIiIiIi6oBAz87byb022WcunQO7GuLFc6A3dEBoWhpuGDJFriIiIiIiIiIiIiIi6JMm6daCuln2z8NPhLfMidxISEqJbWPfuGD58GCZPvkuuISIiIiIiIiIiIiLqMj76+GN9KVm3lXu3CdLVuqUzI9VDdM0YnxYaGooe6guEf+1ruOOO7+H+++Zg2LD/Yg11IiIiIiIiIiIiIjprHT9+HAcPHsTevXvx2Wef6W2SdUvmHZiDq/+M0eqy3EndGpuaTpxQX6RFteMtLfqyuakJjY2NOHr0KI6o5jnmQVNzk7r+OE6of9oJ7xIRERERERERERER0RmlY3AzDJdoPCQ0BN3DusPW04Y+vXqhl2o9evTQo9NDZXR6aKi+7CbLZqhuhemdCdW7NTU1nTh+4oRO7XWTQF21ZmlNTfCo1tzYqNbl+hYdoJ9Q+xMRERERERERERERfdV0KK4uQ0JCERYagrAePWDr3l2H6GESoKsmQbpV7sU3SD+lML25ufmEhOgSkHsDdbNZobq1LvvoIN0M0xmpExEREREREREREdFXwRt/+wTjVmDuDdGtAN1s1j7W/sbNOw7ShQ7TrZBch+aybIbnvst6H7mFdUlERERERERERERE9BXTUbiE4/rCDMslPA+2LPv5NOOmnQzTW1pavGG6FajrS1m3QnSryS2sSyIiIiIiIiIiIiKir1hgmO5tZoguy180SBfdjh8/fsIvMDebDtN9mvqv/TBdriciIiIiIiIiIiIi+k8LCMB9w3R96dMC66NbzeK73BEdpsuCb3Cum7Gxzbq+0P8r5joRERERERERERER0RllBuHeOFyCcn1hBuYB697tJt/ljgH/H7tk5MxbjMF9AAAAAElFTkSuQmCC)"
      ],
      "metadata": {
        "id": "TDMoCCsXZH3O"
      }
    },
    {
      "cell_type": "code",
      "execution_count": 1,
      "metadata": {
        "id": "cgNLjPQhZnZa",
        "colab": {
          "base_uri": "https://localhost:8080/"
        },
        "outputId": "768a034a-ff2b-4c55-8e04-c59203f81f53"
      },
      "outputs": [
        {
          "output_type": "stream",
          "name": "stderr",
          "text": [
            "[nltk_data] Downloading package punkt_tab to /root/nltk_data...\n",
            "[nltk_data]   Package punkt_tab is already up-to-date!\n"
          ]
        },
        {
          "output_type": "stream",
          "name": "stdout",
          "text": [
            "Drive already mounted at /content/drive; to attempt to forcibly remount, call drive.mount(\"/content/drive\", force_remount=True).\n",
            "Requirement already satisfied: rank_bm25 in /usr/local/lib/python3.10/dist-packages (0.2.2)\n",
            "Requirement already satisfied: numpy in /usr/local/lib/python3.10/dist-packages (from rank_bm25) (1.26.4)\n",
            "Requirement already satisfied: scikit-learn in /usr/local/lib/python3.10/dist-packages (1.5.2)\n",
            "Requirement already satisfied: numpy>=1.19.5 in /usr/local/lib/python3.10/dist-packages (from scikit-learn) (1.26.4)\n",
            "Requirement already satisfied: scipy>=1.6.0 in /usr/local/lib/python3.10/dist-packages (from scikit-learn) (1.13.1)\n",
            "Requirement already satisfied: joblib>=1.2.0 in /usr/local/lib/python3.10/dist-packages (from scikit-learn) (1.4.2)\n",
            "Requirement already satisfied: threadpoolctl>=3.1.0 in /usr/local/lib/python3.10/dist-packages (from scikit-learn) (3.5.0)\n",
            "Requirement already satisfied: nltk in /usr/local/lib/python3.10/dist-packages (3.9.1)\n",
            "Requirement already satisfied: click in /usr/local/lib/python3.10/dist-packages (from nltk) (8.1.7)\n",
            "Requirement already satisfied: joblib in /usr/local/lib/python3.10/dist-packages (from nltk) (1.4.2)\n",
            "Requirement already satisfied: regex>=2021.8.3 in /usr/local/lib/python3.10/dist-packages (from nltk) (2024.9.11)\n",
            "Requirement already satisfied: tqdm in /usr/local/lib/python3.10/dist-packages (from nltk) (4.66.6)\n"
          ]
        }
      ],
      "source": [
        "from sklearn.feature_extraction.text import CountVectorizer\n",
        "import nltk\n",
        "nltk.download('punkt_tab')\n",
        "from google.colab import drive\n",
        "from tqdm import tqdm\n",
        "drive.mount('/content/drive')\n",
        "!pip install rank_bm25\n",
        "!pip3 install scikit-learn\n",
        "!pip3 install nltk"
      ]
    },
    {
      "cell_type": "code",
      "execution_count": 2,
      "metadata": {
        "id": "WHzDkKbDmhV9",
        "colab": {
          "base_uri": "https://localhost:8080/",
          "height": 72
        },
        "outputId": "922bddc4-4e42-4d56-d47b-f3c9455780c8"
      },
      "outputs": [
        {
          "output_type": "execute_result",
          "data": {
            "text/plain": [
              "\"\\n[\\n  {\\n    '_score': 433,\\n    '_index': 'hashtag_tweets',\\n    '_source':\\n          {'tweet':\\n                {\\n                  'hashtags': ['freepress', 'TrumpLegacy', 'CNN'],\\n                  'tweet_id': '0x2d5350',\\n                  'text': '@brianklaas As we see, Trump is dangerous to #freepress around the world. What a <LH> <LH> #TrumpLegacy.  #CNN'\\n                }\\n          },\\n    '_crawldate': '2016-01-28 04:52:09', '_type': 'tweets'\\n  }\\n  ,\\n  {\\n    ....\\n  }\\n]\\n\""
            ],
            "application/vnd.google.colaboratory.intrinsic+json": {
              "type": "string"
            }
          },
          "metadata": {},
          "execution_count": 2
        }
      ],
      "source": [
        "\"\"\"\n",
        "[\n",
        "  {\n",
        "    '_score': 433,\n",
        "    '_index': 'hashtag_tweets',\n",
        "    '_source':\n",
        "          {'tweet':\n",
        "                {\n",
        "                  'hashtags': ['freepress', 'TrumpLegacy', 'CNN'],\n",
        "                  'tweet_id': '0x2d5350',\n",
        "                  'text': '@brianklaas As we see, Trump is dangerous to #freepress around the world. What a <LH> <LH> #TrumpLegacy.  #CNN'\n",
        "                }\n",
        "          },\n",
        "    '_crawldate': '2016-01-28 04:52:09', '_type': 'tweets'\n",
        "  }\n",
        "  ,\n",
        "  {\n",
        "    ....\n",
        "  }\n",
        "]\n",
        "\"\"\""
      ]
    },
    {
      "cell_type": "markdown",
      "source": [
        "### 資料集整理"
      ],
      "metadata": {
        "id": "NeDjT-VSdITg"
      }
    },
    {
      "cell_type": "code",
      "execution_count": 3,
      "metadata": {
        "id": "2-ipTTAgdMUA",
        "colab": {
          "base_uri": "https://localhost:8080/"
        },
        "outputId": "816db0e0-0f4e-4479-b886-ee1512b75ac3"
      },
      "outputs": [
        {
          "output_type": "stream",
          "name": "stderr",
          "text": [
            "1867535it [01:01, 30466.57it/s]\n"
          ]
        },
        {
          "output_type": "stream",
          "name": "stdout",
          "text": [
            "train set\n",
            "         tweet_id       emotion  \\\n",
            "0        0x29e452           joy   \n",
            "1        0x2b3819           joy   \n",
            "2        0x2a2acc         trust   \n",
            "3        0x2a8830           joy   \n",
            "4        0x20b21d  anticipation   \n",
            "...           ...           ...   \n",
            "1455558  0x227e25       disgust   \n",
            "1455559  0x293813       sadness   \n",
            "1455560  0x1e1a7e           joy   \n",
            "1455561  0x2156a5         trust   \n",
            "1455562  0x2bb9d2         trust   \n",
            "\n",
            "                                                  hashtags  \\\n",
            "0                                                       []   \n",
            "1                                        [spateradio, app]   \n",
            "2                                                       []   \n",
            "3        [PUBG, GamersUnite, twitch, BeHealthy, StayPos...   \n",
            "4                                   [strength, bones, God]   \n",
            "...                                                    ...   \n",
            "1455558                                              [rip]   \n",
            "1455559      [libtards, Hillary, lost, sad, growup, Trump]   \n",
            "1455560                            [seeds, Joy, GLTChurch]   \n",
            "1455561                                                 []   \n",
            "1455562                                                 []   \n",
            "\n",
            "                                                      text  \n",
            "0        Huge Respect🖒 @JohnnyVegasReal talking about l...  \n",
            "1        Yoooo we hit all our monthly goals with the ne...  \n",
            "2        @KIDSNTS @PICU_BCH @uhbcomms @BWCHBoss Well do...  \n",
            "3        Come join @ambushman27 on #PUBG while he striv...  \n",
            "4        @fanshixieen2014 Blessings!My #strength little...  \n",
            "...                                                    ...  \n",
            "1455558  @BBCBreaking Such an inspirational talented pe...  \n",
            "1455559  And still #libtards won't get off the guy's ba...  \n",
            "1455560  When you sow #seeds of service or hospitality ...  \n",
            "1455561  @lorettalrose Will you be displaying some <LH>...  \n",
            "1455562                               Lord, I <LH> in you.  \n",
            "\n",
            "[1455563 rows x 4 columns]\n",
            "\n",
            "test set\n",
            "        tweet_id                        hashtags  \\\n",
            "0       0x28cc61                              []   \n",
            "1       0x2db41f                              []   \n",
            "2       0x2466f6                  [womendrivers]   \n",
            "3       0x23f9e9                [robbingmembers]   \n",
            "4       0x1fb4e1                              []   \n",
            "...          ...                             ...   \n",
            "411967  0x2c4dc2                          [kids]   \n",
            "411968  0x31be7c  [inspiringvolunteerawards2017]   \n",
            "411969  0x1ca58e                              []   \n",
            "411970  0x35c8ba                              []   \n",
            "411971  0x1d941b                              []   \n",
            "\n",
            "                                                     text  \n",
            "0       @Habbo I've seen two separate colours of the e...  \n",
            "1       @FoxNews @KellyannePolls No serious self respe...  \n",
            "2       Looking for a new car, and it says 1 lady owne...  \n",
            "3       @cineworld “only the brave” just out and fount...  \n",
            "4       Felt like total dog 💩 going into open gym and ...  \n",
            "...                                                   ...  \n",
            "411967  6 year old walks in astounded. Mum! Look how b...  \n",
            "411968  Only one week to go until the #inspiringvolunt...  \n",
            "411969  I just got caught up with the manga for \"My He...  \n",
            "411970  Speak only when spoken to and make hot ass mus...  \n",
            "411971  Know what you want and go for it. Fuck everyon...  \n",
            "\n",
            "[411972 rows x 3 columns]\n"
          ]
        }
      ],
      "source": [
        "# 讀tweets_DM.json\n",
        "\n",
        "import json\n",
        "\n",
        "file_path = '/content/drive/MyDrive/colab/lab02 kaggle/tweets_DM.json'\n",
        "\n",
        "data = []\n",
        "\n",
        "with open(file_path, 'r', encoding='utf-8') as file:\n",
        "    for line_number, line in tqdm(enumerate(file, start=1)):\n",
        "        data.append(json.loads(line))\n",
        "\n",
        "import pandas as pd\n",
        "\n",
        "# 讀data_identification.csv\n",
        "file_path = '/content/drive/MyDrive/colab/lab02 kaggle/data_identification.csv'\n",
        "identification = pd.read_csv(file_path)\n",
        "\n",
        "# 讀emotion.csv\n",
        "file_path = '/content/drive/MyDrive/colab/lab02 kaggle/emotion.csv'\n",
        "emotion = pd.read_csv(file_path)\n",
        "\n",
        "\n",
        "# 拆分train/test\n",
        "train_df = identification[identification['identification'] == 'train']\n",
        "test_df = identification[identification['identification'] == 'test']\n",
        "\n",
        "# 提取source資料\n",
        "data_tweet = [i[\"_source\"][\"tweet\"] for i in data]\n",
        "data_tweet = pd.DataFrame(data_tweet)\n",
        "\n",
        "\n",
        "#整合訓練資料\n",
        "train = pd.merge(train_df, emotion, on='tweet_id', how='inner')\n",
        "train = pd.merge(train, data_tweet, on='tweet_id', how='inner')\n",
        "train = train.drop(\"identification\", axis=1)\n",
        "\n",
        "#整合測試資料\n",
        "test = pd.merge(test_df, data_tweet, on=\"tweet_id\", how=\"inner\")\n",
        "test = test.drop(\"identification\", axis=1)\n",
        "\n",
        "\n",
        "# 總資料 1867535\n",
        "print(\"train set\")\n",
        "print(train)  # [1455563 rows x 4 columns] : id, emotion, hashtags, text\n",
        "print()\n",
        "print(\"test set\")\n",
        "print(test)  # [411972 rows x 3 columns] : id, hashtags, text"
      ]
    },
    {
      "cell_type": "code",
      "execution_count": 4,
      "metadata": {
        "id": "hYAgV-lGKUty",
        "colab": {
          "base_uri": "https://localhost:8080/"
        },
        "outputId": "bcce228d-0724-4148-a7ce-b2ba245a7700"
      },
      "outputs": [
        {
          "output_type": "stream",
          "name": "stdout",
          "text": [
            "訓練集資料分佈\n",
            "emotion\n",
            "joy             516017\n",
            "anticipation    248935\n",
            "trust           205478\n",
            "sadness         193437\n",
            "disgust         139101\n",
            "fear             63999\n",
            "surprise         48729\n",
            "anger            39867\n",
            "Name: count, dtype: int64\n"
          ]
        }
      ],
      "source": [
        "print(\"訓練集資料分佈\")\n",
        "print(train[\"emotion\"].value_counts())"
      ]
    },
    {
      "cell_type": "markdown",
      "source": [
        "#訓練集抽樣\n",
        "嘗試兩種抽樣\n",
        "\n",
        "抽樣方法1: 依照原訓練集樣本比例抽樣\n",
        "\n",
        "抽樣方法2: 每種emotion抽35000筆\n",
        "\n",
        "皆為分層抽樣"
      ],
      "metadata": {
        "id": "J0CN_DCjdPOb"
      }
    },
    {
      "cell_type": "code",
      "execution_count": 5,
      "metadata": {
        "id": "cQz3jftfNT2H",
        "colab": {
          "base_uri": "https://localhost:8080/"
        },
        "outputId": "eeae9b64-57c5-46c6-fe18-df944aef45ed"
      },
      "outputs": [
        {
          "output_type": "stream",
          "name": "stdout",
          "text": [
            "emotion\n",
            "joy             516017\n",
            "anticipation    248935\n",
            "trust           205478\n",
            "sadness         193437\n",
            "disgust         139101\n",
            "fear             63999\n",
            "surprise         48729\n",
            "anger            39867\n",
            "Name: count, dtype: int64\n"
          ]
        },
        {
          "output_type": "stream",
          "name": "stderr",
          "text": [
            "<ipython-input-5-b7f8ea32771f>:13: DeprecationWarning: DataFrameGroupBy.apply operated on the grouping columns. This behavior is deprecated, and in a future version of pandas the grouping columns will be excluded from the operation. Either pass `include_groups=False` to exclude the groupings or explicitly select the grouping columns after groupby to silence this warning.\n",
            "  sample_train = train.groupby('emotion').apply(lambda x: x.sample(n=35000, random_state=1)).reset_index(drop=True)\n"
          ]
        },
        {
          "output_type": "stream",
          "name": "stdout",
          "text": [
            "\n",
            "打散後的資料:\n",
            "        tweet_id       emotion  \\\n",
            "0       0x29b8bf          fear   \n",
            "1       0x2beabe          fear   \n",
            "2       0x24d944  anticipation   \n",
            "3       0x2194f4  anticipation   \n",
            "4       0x225198  anticipation   \n",
            "...          ...           ...   \n",
            "279995  0x2a9403         anger   \n",
            "279996  0x2052e8  anticipation   \n",
            "279997  0x294a01       disgust   \n",
            "279998  0x2ebb00       sadness   \n",
            "279999  0x2ce383       disgust   \n",
            "\n",
            "                                               hashtags  \\\n",
            "0                                                    []   \n",
            "1                                                    []   \n",
            "2                                                    []   \n",
            "3                                                    []   \n",
            "4                                                    []   \n",
            "...                                                 ...   \n",
            "279995                                               []   \n",
            "279996         [ThursdayMotivation, Question, Thursday]   \n",
            "279997                                               []   \n",
            "279998  [TuesdayThoughts, racist, InternationalStudent]   \n",
            "279999                                               []   \n",
            "\n",
            "                                                     text  \n",
            "0       The dog is watching and sniffing for something...  \n",
            "1                     This episode of brookcode 😭😭😭💀 <LH>  \n",
            "2       Honestly, can you say that if God was to retur...  \n",
            "3                             Just wait on that text <LH>  \n",
            "4       Let go of all the negativities and just focus ...  \n",
            "...                                                   ...  \n",
            "279995  So if a white guy kills 50+ people, it's sense...  \n",
            "279996  We're curious, what's your best drink first th...  \n",
            "279997  @askjcp I feel <LH> that your BOGO for .01 get...  \n",
            "279998  As if made in China and from Japan with love a...  \n",
            "279999        Imagine women acted like Jeremy Piven. <LH>  \n",
            "\n",
            "[280000 rows x 4 columns]\n"
          ]
        }
      ],
      "source": [
        "# 訓練集進行分層抽樣 樣本數原樣本數 1/15\n",
        "train_len = len(train)\n",
        "total_sample = len(train)/2\n",
        "emotion_counts = train['emotion'].value_counts()\n",
        "print(emotion_counts)\n",
        "\n",
        "# 抽樣方法1: 依照原訓練集樣本比例抽樣\n",
        "# sample_sizes = (emotion_counts / train_len * total_sample).round().astype(int)\n",
        "# sample_sizes.iloc[5:8] = emotion_counts.iloc[5:8]\n",
        "# sample_train = train.groupby('emotion').apply(lambda x: x.sample(n=sample_sizes[x.name], random_state=1)).reset_index(drop=True)\n",
        "\n",
        "# 抽樣方法2: 每種emotion抽35000筆\n",
        "sample_train = train.groupby('emotion').apply(lambda x: x.sample(n=35000, random_state=1)).reset_index(drop=True)\n",
        "\n",
        "\n",
        "# 將樣本洗牌\n",
        "sample_train = sample_train.sample(frac=1, random_state=3).reset_index(drop=True)\n",
        "print(\"\\n打散後的資料:\")\n",
        "print(sample_train)"
      ]
    },
    {
      "cell_type": "code",
      "execution_count": 6,
      "metadata": {
        "id": "h-yfVEVgMgPt",
        "colab": {
          "base_uri": "https://localhost:8080/"
        },
        "outputId": "04dbf26b-07c6-446e-fb10-ab78ad775d36"
      },
      "outputs": [
        {
          "output_type": "stream",
          "name": "stdout",
          "text": [
            "emotion\n",
            "fear            35000\n",
            "anticipation    35000\n",
            "anger           35000\n",
            "disgust         35000\n",
            "joy             35000\n",
            "surprise        35000\n",
            "trust           35000\n",
            "sadness         35000\n",
            "Name: count, dtype: int64\n"
          ]
        }
      ],
      "source": [
        "# 抽樣後各類別樣本數\n",
        "print(sample_train[\"emotion\"].value_counts())"
      ]
    },
    {
      "cell_type": "markdown",
      "source": [
        "#驗證集抽樣\n",
        "抽訓練集1/15的樣本進行驗證\n",
        "\n",
        "驗證集資料不包含到訓練集資料"
      ],
      "metadata": {
        "id": "nCFrjJqWdkqY"
      }
    },
    {
      "cell_type": "code",
      "execution_count": 7,
      "metadata": {
        "id": "xPVCbqxhPaXj",
        "colab": {
          "base_uri": "https://localhost:8080/"
        },
        "outputId": "9b2bc20d-c8ca-47b7-9676-793e86db030f"
      },
      "outputs": [
        {
          "output_type": "stream",
          "name": "stderr",
          "text": [
            "<ipython-input-7-206e1b487966>:6: DeprecationWarning: DataFrameGroupBy.apply operated on the grouping columns. This behavior is deprecated, and in a future version of pandas the grouping columns will be excluded from the operation. Either pass `include_groups=False` to exclude the groupings or explicitly select the grouping columns after groupby to silence this warning.\n",
            "  sample_val = train.groupby('emotion').apply(lambda x: x.sample(n=sample_sizes[x.name], random_state=40)).reset_index(drop=True)\n"
          ]
        },
        {
          "output_type": "stream",
          "name": "stdout",
          "text": [
            "\n",
            "打散後的資料:\n",
            "        tweet_id       emotion  \\\n",
            "0       0x31ecd7       sadness   \n",
            "1       0x25941e           joy   \n",
            "2       0x2cae0e           joy   \n",
            "3       0x2b8492  anticipation   \n",
            "4       0x1e811d           joy   \n",
            "...          ...           ...   \n",
            "293549  0x2135fe           joy   \n",
            "293550  0x37c893           joy   \n",
            "293551  0x2da5ac           joy   \n",
            "293552  0x227b27           joy   \n",
            "293553  0x3347b4           joy   \n",
            "\n",
            "                                                 hashtags  \\\n",
            "0                                                      []   \n",
            "1                                            [B12vitamin]   \n",
            "2       [Amazing, WildWendy, Tamiya, WildWilly, Clasic...   \n",
            "3                                         [butterfingers]   \n",
            "4                                                      []   \n",
            "...                                                   ...   \n",
            "293549                                   [PlayLikeABrown]   \n",
            "293550                                                 []   \n",
            "293551                                 [SantaClausParade]   \n",
            "293552  [WeKnowTheWeb, Branding, GoldenGateBistro, Vis...   \n",
            "293553          [BellahoustonPark, GlasgowSummerSessions]   \n",
            "\n",
            "                                                     text  \n",
            "0       @AndreaCarnell @aaronstew12 @kylegriffin1 And ...  \n",
            "1               Secret 12 from @infowars <LH> #B12vitamin  \n",
            "2       #Amazing! #WildWendy behind the wheel of this ...  \n",
            "3       @IoliteMusic @vynyl @KTCLchannel933 To any of ...  \n",
            "4       It's a wintry kind of evening so I'm in bed li...  \n",
            "...                                                   ...  \n",
            "293549  We lost: at Cincinnati, 2009 Week 12, 16-7 @Br...  \n",
            "293550                 Hot tea and honey before bed! <LH>  \n",
            "293551         #SantaClausParade than @AMAs tonight. <LH>  \n",
            "293552  #WeKnowTheWeb Tasty #Branding creation 😎 for #...  \n",
            "293553  @Eminem was absolutely unreal last night!!😍 my...  \n",
            "\n",
            "[293554 rows x 4 columns]\n"
          ]
        }
      ],
      "source": [
        "# 驗證集進行分層抽樣 樣本數為原訓練集 1/15\n",
        "train_len = len(train)\n",
        "total_sample = len(train)//4\n",
        "emotion_counts = train['emotion'].value_counts()\n",
        "sample_sizes = (emotion_counts / train_len * total_sample).round().astype(int)\n",
        "sample_val = train.groupby('emotion').apply(lambda x: x.sample(n=sample_sizes[x.name], random_state=40)).reset_index(drop=True)\n",
        "\n",
        "# 將\n",
        "inner = pd.merge(sample_val, sample_train, on=\"text\", how=\"inner\")\n",
        "sample_val = sample_val[~sample_val['text'].isin(inner['text'])]\n",
        "\n",
        "\n",
        "# 將樣本洗牌\n",
        "sample_val = sample_val.sample(frac=1, random_state=4).reset_index(drop=True)\n",
        "print(\"\\n打散後的資料:\")\n",
        "print(sample_val)"
      ]
    },
    {
      "cell_type": "code",
      "execution_count": 8,
      "metadata": {
        "id": "wYqKHvbEJ21m",
        "colab": {
          "base_uri": "https://localhost:8080/"
        },
        "outputId": "a882de77-3559-40e1-db2d-14309e63fe4e"
      },
      "outputs": [
        {
          "output_type": "stream",
          "name": "stdout",
          "text": [
            "emotion\n",
            "fear            35000\n",
            "anticipation    35000\n",
            "anger           35000\n",
            "disgust         35000\n",
            "joy             35000\n",
            "surprise        35000\n",
            "trust           35000\n",
            "sadness         35000\n",
            "Name: count, dtype: int64\n",
            "emotion\n",
            "joy             120005\n",
            "anticipation     53647\n",
            "trust            42448\n",
            "sadness          39505\n",
            "disgust          26010\n",
            "fear              7341\n",
            "surprise          3373\n",
            "anger             1225\n",
            "Name: count, dtype: int64\n"
          ]
        }
      ],
      "source": [
        "print(sample_train[\"emotion\"].value_counts())\n",
        "print(sample_val[\"emotion\"].value_counts())"
      ]
    },
    {
      "cell_type": "markdown",
      "metadata": {
        "id": "rGw3skXWbSUW"
      },
      "source": [
        "# 資料清理\n",
        "文本清洗\n",
        "\n",
        "1.轉為小寫\n",
        "\n",
        "2.去除標點符號和特殊字符\n",
        "\n",
        "3.去除多餘空格\n",
        "\n",
        "4.去除停用詞"
      ]
    },
    {
      "cell_type": "code",
      "execution_count": 9,
      "metadata": {
        "id": "aOInKHNJVVkg",
        "colab": {
          "base_uri": "https://localhost:8080/"
        },
        "outputId": "da62847f-ca04-4cd4-cd9f-b45da71dfc12"
      },
      "outputs": [
        {
          "output_type": "stream",
          "name": "stderr",
          "text": [
            "[nltk_data] Downloading package stopwords to /root/nltk_data...\n",
            "[nltk_data]   Package stopwords is already up-to-date!\n"
          ]
        }
      ],
      "source": [
        "# 清理文本、去除標點符號、特殊字符\n",
        "\n",
        "import re\n",
        "import nltk\n",
        "from nltk.corpus import stopwords\n",
        "\n",
        "# 確保下載 NLTK 的停用詞列表\n",
        "nltk.download('stopwords')\n",
        "\n",
        "# 定義文本清理函數\n",
        "def clean_text(text):\n",
        "    # 將文本轉換為小寫\n",
        "    text = text.lower()\n",
        "\n",
        "    # 去除標點符號和特殊字符\n",
        "    text = re.sub(r'[^a-zA-Z0-9\\s]', '', text)\n",
        "\n",
        "    # 去除多餘空格\n",
        "    text = re.sub(r'\\s+', ' ', text).strip()\n",
        "\n",
        "    # 去除停用詞\n",
        "    stop_words = set(stopwords.words('english'))\n",
        "    tokens = text.split()\n",
        "    filtered_tokens = [word for word in tokens if word not in stop_words]\n",
        "\n",
        "    return ' '.join(filtered_tokens)"
      ]
    },
    {
      "cell_type": "code",
      "execution_count": 10,
      "metadata": {
        "colab": {
          "base_uri": "https://localhost:8080/"
        },
        "id": "d8amLYS-VmXR",
        "outputId": "9c9e40e6-ee5c-4178-c366-3873550fa638"
      },
      "outputs": [
        {
          "output_type": "stream",
          "name": "stderr",
          "text": [
            "100%|██████████| 280000/280000 [01:01<00:00, 4546.16it/s]\n",
            "100%|██████████| 293554/293554 [00:52<00:00, 5639.49it/s]\n"
          ]
        }
      ],
      "source": [
        "#訓練集、驗證集 清洗\n",
        "clean = []\n",
        "for text in tqdm(sample_train[\"text\"]):\n",
        "  cleaned_text = clean_text(text)\n",
        "  clean.append(cleaned_text)\n",
        "\n",
        "sample_train[\"text\"] = clean\n",
        "\n",
        "clean = []\n",
        "for text in tqdm(sample_val[\"text\"]):\n",
        "  cleaned_text = clean_text(text)\n",
        "  clean.append(cleaned_text)\n",
        "\n",
        "sample_val[\"text\"] = clean"
      ]
    },
    {
      "cell_type": "code",
      "execution_count": 11,
      "metadata": {
        "colab": {
          "base_uri": "https://localhost:8080/"
        },
        "id": "UiFuSbQza7sC",
        "outputId": "4dffd6b4-5452-43ce-b617-cce9b8fe0539"
      },
      "outputs": [
        {
          "output_type": "stream",
          "name": "stdout",
          "text": [
            "0               dog watching sniffing something cant see lh\n",
            "1                                      episode brookcode lh\n",
            "2         honestly say god return minute would prepared ...\n",
            "3                                              wait text lh\n",
            "4         let go negativities focus goal wooh malaki lak...\n",
            "                                ...                        \n",
            "279995    white guy kills 50 people senseless violence a...\n",
            "279996    curious whats best drink first thing morning t...\n",
            "279997    askjcp feel lh bogo 01 gets price two items so...\n",
            "279998    made china japan love asked ngga holla racist ...\n",
            "279999             imagine women acted like jeremy piven lh\n",
            "Name: text, Length: 280000, dtype: object\n",
            "0         andreacarnell aaronstew12 kylegriffin1 video t...\n",
            "1                          secret 12 infowars lh b12vitamin\n",
            "2         amazing wildwendy behind wheel tamiya wildwill...\n",
            "3         iolitemusic vynyl ktclchannel933 know tweet ya...\n",
            "4         wintry kind evening im bed listening fantastic...\n",
            "                                ...                        \n",
            "293549    lost cincinnati 2009 week 12 167 browns lh pla...\n",
            "293550                                 hot tea honey bed lh\n",
            "293551                     santaclausparade amas tonight lh\n",
            "293552    weknowtheweb tasty branding creation goldengat...\n",
            "293553    eminem absolutely unreal last night life made ...\n",
            "Name: text, Length: 293554, dtype: object\n"
          ]
        }
      ],
      "source": [
        "print(sample_train[\"text\"])\n",
        "\n",
        "print(sample_val[\"text\"])"
      ]
    },
    {
      "cell_type": "code",
      "execution_count": 12,
      "metadata": {
        "colab": {
          "base_uri": "https://localhost:8080/"
        },
        "id": "N--PStVfodfs",
        "outputId": "7127fb97-f629-453b-e791-7a3c41a138a6"
      },
      "outputs": [
        {
          "output_type": "stream",
          "name": "stderr",
          "text": [
            "100%|██████████| 411972/411972 [01:12<00:00, 5700.05it/s]\n"
          ]
        }
      ],
      "source": [
        "# 測試集 清洗\n",
        "clean = []\n",
        "for text in tqdm(test[\"text\"]):\n",
        "  cleaned_text = clean_text(text)\n",
        "  clean.append(cleaned_text)\n",
        "\n",
        "test[\"text\"] = clean"
      ]
    },
    {
      "cell_type": "code",
      "execution_count": 13,
      "metadata": {
        "id": "t372iLCG4CvK"
      },
      "outputs": [],
      "source": [
        "#用於LLM embedding的資料\n",
        "df_train = sample_train\n",
        "df_val = sample_val"
      ]
    },
    {
      "cell_type": "markdown",
      "metadata": {
        "id": "EiHU_vSNEuQD"
      },
      "source": [
        "# BOW\n",
        "\n",
        "\n",
        "嘗試不同特徵量\n",
        "\n",
        "1024\n",
        "\n",
        "512"
      ]
    },
    {
      "cell_type": "code",
      "execution_count": 14,
      "metadata": {
        "colab": {
          "base_uri": "https://localhost:8080/",
          "height": 134
        },
        "id": "v94TgfvgD6T7",
        "outputId": "ed3be8a2-7f36-4b60-f548-76793907607a"
      },
      "outputs": [
        {
          "output_type": "stream",
          "name": "stderr",
          "text": [
            "/usr/local/lib/python3.10/dist-packages/sklearn/feature_extraction/text.py:521: UserWarning: The parameter 'token_pattern' will not be used since 'tokenizer' is not None'\n",
            "  warnings.warn(\n"
          ]
        },
        {
          "output_type": "execute_result",
          "data": {
            "text/plain": [
              "CountVectorizer(max_features=1024,\n",
              "                tokenizer=<function word_tokenize at 0x78c1584decb0>)"
            ],
            "text/html": [
              "<style>#sk-container-id-1 {\n",
              "  /* Definition of color scheme common for light and dark mode */\n",
              "  --sklearn-color-text: black;\n",
              "  --sklearn-color-line: gray;\n",
              "  /* Definition of color scheme for unfitted estimators */\n",
              "  --sklearn-color-unfitted-level-0: #fff5e6;\n",
              "  --sklearn-color-unfitted-level-1: #f6e4d2;\n",
              "  --sklearn-color-unfitted-level-2: #ffe0b3;\n",
              "  --sklearn-color-unfitted-level-3: chocolate;\n",
              "  /* Definition of color scheme for fitted estimators */\n",
              "  --sklearn-color-fitted-level-0: #f0f8ff;\n",
              "  --sklearn-color-fitted-level-1: #d4ebff;\n",
              "  --sklearn-color-fitted-level-2: #b3dbfd;\n",
              "  --sklearn-color-fitted-level-3: cornflowerblue;\n",
              "\n",
              "  /* Specific color for light theme */\n",
              "  --sklearn-color-text-on-default-background: var(--sg-text-color, var(--theme-code-foreground, var(--jp-content-font-color1, black)));\n",
              "  --sklearn-color-background: var(--sg-background-color, var(--theme-background, var(--jp-layout-color0, white)));\n",
              "  --sklearn-color-border-box: var(--sg-text-color, var(--theme-code-foreground, var(--jp-content-font-color1, black)));\n",
              "  --sklearn-color-icon: #696969;\n",
              "\n",
              "  @media (prefers-color-scheme: dark) {\n",
              "    /* Redefinition of color scheme for dark theme */\n",
              "    --sklearn-color-text-on-default-background: var(--sg-text-color, var(--theme-code-foreground, var(--jp-content-font-color1, white)));\n",
              "    --sklearn-color-background: var(--sg-background-color, var(--theme-background, var(--jp-layout-color0, #111)));\n",
              "    --sklearn-color-border-box: var(--sg-text-color, var(--theme-code-foreground, var(--jp-content-font-color1, white)));\n",
              "    --sklearn-color-icon: #878787;\n",
              "  }\n",
              "}\n",
              "\n",
              "#sk-container-id-1 {\n",
              "  color: var(--sklearn-color-text);\n",
              "}\n",
              "\n",
              "#sk-container-id-1 pre {\n",
              "  padding: 0;\n",
              "}\n",
              "\n",
              "#sk-container-id-1 input.sk-hidden--visually {\n",
              "  border: 0;\n",
              "  clip: rect(1px 1px 1px 1px);\n",
              "  clip: rect(1px, 1px, 1px, 1px);\n",
              "  height: 1px;\n",
              "  margin: -1px;\n",
              "  overflow: hidden;\n",
              "  padding: 0;\n",
              "  position: absolute;\n",
              "  width: 1px;\n",
              "}\n",
              "\n",
              "#sk-container-id-1 div.sk-dashed-wrapped {\n",
              "  border: 1px dashed var(--sklearn-color-line);\n",
              "  margin: 0 0.4em 0.5em 0.4em;\n",
              "  box-sizing: border-box;\n",
              "  padding-bottom: 0.4em;\n",
              "  background-color: var(--sklearn-color-background);\n",
              "}\n",
              "\n",
              "#sk-container-id-1 div.sk-container {\n",
              "  /* jupyter's `normalize.less` sets `[hidden] { display: none; }`\n",
              "     but bootstrap.min.css set `[hidden] { display: none !important; }`\n",
              "     so we also need the `!important` here to be able to override the\n",
              "     default hidden behavior on the sphinx rendered scikit-learn.org.\n",
              "     See: https://github.com/scikit-learn/scikit-learn/issues/21755 */\n",
              "  display: inline-block !important;\n",
              "  position: relative;\n",
              "}\n",
              "\n",
              "#sk-container-id-1 div.sk-text-repr-fallback {\n",
              "  display: none;\n",
              "}\n",
              "\n",
              "div.sk-parallel-item,\n",
              "div.sk-serial,\n",
              "div.sk-item {\n",
              "  /* draw centered vertical line to link estimators */\n",
              "  background-image: linear-gradient(var(--sklearn-color-text-on-default-background), var(--sklearn-color-text-on-default-background));\n",
              "  background-size: 2px 100%;\n",
              "  background-repeat: no-repeat;\n",
              "  background-position: center center;\n",
              "}\n",
              "\n",
              "/* Parallel-specific style estimator block */\n",
              "\n",
              "#sk-container-id-1 div.sk-parallel-item::after {\n",
              "  content: \"\";\n",
              "  width: 100%;\n",
              "  border-bottom: 2px solid var(--sklearn-color-text-on-default-background);\n",
              "  flex-grow: 1;\n",
              "}\n",
              "\n",
              "#sk-container-id-1 div.sk-parallel {\n",
              "  display: flex;\n",
              "  align-items: stretch;\n",
              "  justify-content: center;\n",
              "  background-color: var(--sklearn-color-background);\n",
              "  position: relative;\n",
              "}\n",
              "\n",
              "#sk-container-id-1 div.sk-parallel-item {\n",
              "  display: flex;\n",
              "  flex-direction: column;\n",
              "}\n",
              "\n",
              "#sk-container-id-1 div.sk-parallel-item:first-child::after {\n",
              "  align-self: flex-end;\n",
              "  width: 50%;\n",
              "}\n",
              "\n",
              "#sk-container-id-1 div.sk-parallel-item:last-child::after {\n",
              "  align-self: flex-start;\n",
              "  width: 50%;\n",
              "}\n",
              "\n",
              "#sk-container-id-1 div.sk-parallel-item:only-child::after {\n",
              "  width: 0;\n",
              "}\n",
              "\n",
              "/* Serial-specific style estimator block */\n",
              "\n",
              "#sk-container-id-1 div.sk-serial {\n",
              "  display: flex;\n",
              "  flex-direction: column;\n",
              "  align-items: center;\n",
              "  background-color: var(--sklearn-color-background);\n",
              "  padding-right: 1em;\n",
              "  padding-left: 1em;\n",
              "}\n",
              "\n",
              "\n",
              "/* Toggleable style: style used for estimator/Pipeline/ColumnTransformer box that is\n",
              "clickable and can be expanded/collapsed.\n",
              "- Pipeline and ColumnTransformer use this feature and define the default style\n",
              "- Estimators will overwrite some part of the style using the `sk-estimator` class\n",
              "*/\n",
              "\n",
              "/* Pipeline and ColumnTransformer style (default) */\n",
              "\n",
              "#sk-container-id-1 div.sk-toggleable {\n",
              "  /* Default theme specific background. It is overwritten whether we have a\n",
              "  specific estimator or a Pipeline/ColumnTransformer */\n",
              "  background-color: var(--sklearn-color-background);\n",
              "}\n",
              "\n",
              "/* Toggleable label */\n",
              "#sk-container-id-1 label.sk-toggleable__label {\n",
              "  cursor: pointer;\n",
              "  display: block;\n",
              "  width: 100%;\n",
              "  margin-bottom: 0;\n",
              "  padding: 0.5em;\n",
              "  box-sizing: border-box;\n",
              "  text-align: center;\n",
              "}\n",
              "\n",
              "#sk-container-id-1 label.sk-toggleable__label-arrow:before {\n",
              "  /* Arrow on the left of the label */\n",
              "  content: \"▸\";\n",
              "  float: left;\n",
              "  margin-right: 0.25em;\n",
              "  color: var(--sklearn-color-icon);\n",
              "}\n",
              "\n",
              "#sk-container-id-1 label.sk-toggleable__label-arrow:hover:before {\n",
              "  color: var(--sklearn-color-text);\n",
              "}\n",
              "\n",
              "/* Toggleable content - dropdown */\n",
              "\n",
              "#sk-container-id-1 div.sk-toggleable__content {\n",
              "  max-height: 0;\n",
              "  max-width: 0;\n",
              "  overflow: hidden;\n",
              "  text-align: left;\n",
              "  /* unfitted */\n",
              "  background-color: var(--sklearn-color-unfitted-level-0);\n",
              "}\n",
              "\n",
              "#sk-container-id-1 div.sk-toggleable__content.fitted {\n",
              "  /* fitted */\n",
              "  background-color: var(--sklearn-color-fitted-level-0);\n",
              "}\n",
              "\n",
              "#sk-container-id-1 div.sk-toggleable__content pre {\n",
              "  margin: 0.2em;\n",
              "  border-radius: 0.25em;\n",
              "  color: var(--sklearn-color-text);\n",
              "  /* unfitted */\n",
              "  background-color: var(--sklearn-color-unfitted-level-0);\n",
              "}\n",
              "\n",
              "#sk-container-id-1 div.sk-toggleable__content.fitted pre {\n",
              "  /* unfitted */\n",
              "  background-color: var(--sklearn-color-fitted-level-0);\n",
              "}\n",
              "\n",
              "#sk-container-id-1 input.sk-toggleable__control:checked~div.sk-toggleable__content {\n",
              "  /* Expand drop-down */\n",
              "  max-height: 200px;\n",
              "  max-width: 100%;\n",
              "  overflow: auto;\n",
              "}\n",
              "\n",
              "#sk-container-id-1 input.sk-toggleable__control:checked~label.sk-toggleable__label-arrow:before {\n",
              "  content: \"▾\";\n",
              "}\n",
              "\n",
              "/* Pipeline/ColumnTransformer-specific style */\n",
              "\n",
              "#sk-container-id-1 div.sk-label input.sk-toggleable__control:checked~label.sk-toggleable__label {\n",
              "  color: var(--sklearn-color-text);\n",
              "  background-color: var(--sklearn-color-unfitted-level-2);\n",
              "}\n",
              "\n",
              "#sk-container-id-1 div.sk-label.fitted input.sk-toggleable__control:checked~label.sk-toggleable__label {\n",
              "  background-color: var(--sklearn-color-fitted-level-2);\n",
              "}\n",
              "\n",
              "/* Estimator-specific style */\n",
              "\n",
              "/* Colorize estimator box */\n",
              "#sk-container-id-1 div.sk-estimator input.sk-toggleable__control:checked~label.sk-toggleable__label {\n",
              "  /* unfitted */\n",
              "  background-color: var(--sklearn-color-unfitted-level-2);\n",
              "}\n",
              "\n",
              "#sk-container-id-1 div.sk-estimator.fitted input.sk-toggleable__control:checked~label.sk-toggleable__label {\n",
              "  /* fitted */\n",
              "  background-color: var(--sklearn-color-fitted-level-2);\n",
              "}\n",
              "\n",
              "#sk-container-id-1 div.sk-label label.sk-toggleable__label,\n",
              "#sk-container-id-1 div.sk-label label {\n",
              "  /* The background is the default theme color */\n",
              "  color: var(--sklearn-color-text-on-default-background);\n",
              "}\n",
              "\n",
              "/* On hover, darken the color of the background */\n",
              "#sk-container-id-1 div.sk-label:hover label.sk-toggleable__label {\n",
              "  color: var(--sklearn-color-text);\n",
              "  background-color: var(--sklearn-color-unfitted-level-2);\n",
              "}\n",
              "\n",
              "/* Label box, darken color on hover, fitted */\n",
              "#sk-container-id-1 div.sk-label.fitted:hover label.sk-toggleable__label.fitted {\n",
              "  color: var(--sklearn-color-text);\n",
              "  background-color: var(--sklearn-color-fitted-level-2);\n",
              "}\n",
              "\n",
              "/* Estimator label */\n",
              "\n",
              "#sk-container-id-1 div.sk-label label {\n",
              "  font-family: monospace;\n",
              "  font-weight: bold;\n",
              "  display: inline-block;\n",
              "  line-height: 1.2em;\n",
              "}\n",
              "\n",
              "#sk-container-id-1 div.sk-label-container {\n",
              "  text-align: center;\n",
              "}\n",
              "\n",
              "/* Estimator-specific */\n",
              "#sk-container-id-1 div.sk-estimator {\n",
              "  font-family: monospace;\n",
              "  border: 1px dotted var(--sklearn-color-border-box);\n",
              "  border-radius: 0.25em;\n",
              "  box-sizing: border-box;\n",
              "  margin-bottom: 0.5em;\n",
              "  /* unfitted */\n",
              "  background-color: var(--sklearn-color-unfitted-level-0);\n",
              "}\n",
              "\n",
              "#sk-container-id-1 div.sk-estimator.fitted {\n",
              "  /* fitted */\n",
              "  background-color: var(--sklearn-color-fitted-level-0);\n",
              "}\n",
              "\n",
              "/* on hover */\n",
              "#sk-container-id-1 div.sk-estimator:hover {\n",
              "  /* unfitted */\n",
              "  background-color: var(--sklearn-color-unfitted-level-2);\n",
              "}\n",
              "\n",
              "#sk-container-id-1 div.sk-estimator.fitted:hover {\n",
              "  /* fitted */\n",
              "  background-color: var(--sklearn-color-fitted-level-2);\n",
              "}\n",
              "\n",
              "/* Specification for estimator info (e.g. \"i\" and \"?\") */\n",
              "\n",
              "/* Common style for \"i\" and \"?\" */\n",
              "\n",
              ".sk-estimator-doc-link,\n",
              "a:link.sk-estimator-doc-link,\n",
              "a:visited.sk-estimator-doc-link {\n",
              "  float: right;\n",
              "  font-size: smaller;\n",
              "  line-height: 1em;\n",
              "  font-family: monospace;\n",
              "  background-color: var(--sklearn-color-background);\n",
              "  border-radius: 1em;\n",
              "  height: 1em;\n",
              "  width: 1em;\n",
              "  text-decoration: none !important;\n",
              "  margin-left: 1ex;\n",
              "  /* unfitted */\n",
              "  border: var(--sklearn-color-unfitted-level-1) 1pt solid;\n",
              "  color: var(--sklearn-color-unfitted-level-1);\n",
              "}\n",
              "\n",
              ".sk-estimator-doc-link.fitted,\n",
              "a:link.sk-estimator-doc-link.fitted,\n",
              "a:visited.sk-estimator-doc-link.fitted {\n",
              "  /* fitted */\n",
              "  border: var(--sklearn-color-fitted-level-1) 1pt solid;\n",
              "  color: var(--sklearn-color-fitted-level-1);\n",
              "}\n",
              "\n",
              "/* On hover */\n",
              "div.sk-estimator:hover .sk-estimator-doc-link:hover,\n",
              ".sk-estimator-doc-link:hover,\n",
              "div.sk-label-container:hover .sk-estimator-doc-link:hover,\n",
              ".sk-estimator-doc-link:hover {\n",
              "  /* unfitted */\n",
              "  background-color: var(--sklearn-color-unfitted-level-3);\n",
              "  color: var(--sklearn-color-background);\n",
              "  text-decoration: none;\n",
              "}\n",
              "\n",
              "div.sk-estimator.fitted:hover .sk-estimator-doc-link.fitted:hover,\n",
              ".sk-estimator-doc-link.fitted:hover,\n",
              "div.sk-label-container:hover .sk-estimator-doc-link.fitted:hover,\n",
              ".sk-estimator-doc-link.fitted:hover {\n",
              "  /* fitted */\n",
              "  background-color: var(--sklearn-color-fitted-level-3);\n",
              "  color: var(--sklearn-color-background);\n",
              "  text-decoration: none;\n",
              "}\n",
              "\n",
              "/* Span, style for the box shown on hovering the info icon */\n",
              ".sk-estimator-doc-link span {\n",
              "  display: none;\n",
              "  z-index: 9999;\n",
              "  position: relative;\n",
              "  font-weight: normal;\n",
              "  right: .2ex;\n",
              "  padding: .5ex;\n",
              "  margin: .5ex;\n",
              "  width: min-content;\n",
              "  min-width: 20ex;\n",
              "  max-width: 50ex;\n",
              "  color: var(--sklearn-color-text);\n",
              "  box-shadow: 2pt 2pt 4pt #999;\n",
              "  /* unfitted */\n",
              "  background: var(--sklearn-color-unfitted-level-0);\n",
              "  border: .5pt solid var(--sklearn-color-unfitted-level-3);\n",
              "}\n",
              "\n",
              ".sk-estimator-doc-link.fitted span {\n",
              "  /* fitted */\n",
              "  background: var(--sklearn-color-fitted-level-0);\n",
              "  border: var(--sklearn-color-fitted-level-3);\n",
              "}\n",
              "\n",
              ".sk-estimator-doc-link:hover span {\n",
              "  display: block;\n",
              "}\n",
              "\n",
              "/* \"?\"-specific style due to the `<a>` HTML tag */\n",
              "\n",
              "#sk-container-id-1 a.estimator_doc_link {\n",
              "  float: right;\n",
              "  font-size: 1rem;\n",
              "  line-height: 1em;\n",
              "  font-family: monospace;\n",
              "  background-color: var(--sklearn-color-background);\n",
              "  border-radius: 1rem;\n",
              "  height: 1rem;\n",
              "  width: 1rem;\n",
              "  text-decoration: none;\n",
              "  /* unfitted */\n",
              "  color: var(--sklearn-color-unfitted-level-1);\n",
              "  border: var(--sklearn-color-unfitted-level-1) 1pt solid;\n",
              "}\n",
              "\n",
              "#sk-container-id-1 a.estimator_doc_link.fitted {\n",
              "  /* fitted */\n",
              "  border: var(--sklearn-color-fitted-level-1) 1pt solid;\n",
              "  color: var(--sklearn-color-fitted-level-1);\n",
              "}\n",
              "\n",
              "/* On hover */\n",
              "#sk-container-id-1 a.estimator_doc_link:hover {\n",
              "  /* unfitted */\n",
              "  background-color: var(--sklearn-color-unfitted-level-3);\n",
              "  color: var(--sklearn-color-background);\n",
              "  text-decoration: none;\n",
              "}\n",
              "\n",
              "#sk-container-id-1 a.estimator_doc_link.fitted:hover {\n",
              "  /* fitted */\n",
              "  background-color: var(--sklearn-color-fitted-level-3);\n",
              "}\n",
              "</style><div id=\"sk-container-id-1\" class=\"sk-top-container\"><div class=\"sk-text-repr-fallback\"><pre>CountVectorizer(max_features=1024,\n",
              "                tokenizer=&lt;function word_tokenize at 0x78c1584decb0&gt;)</pre><b>In a Jupyter environment, please rerun this cell to show the HTML representation or trust the notebook. <br />On GitHub, the HTML representation is unable to render, please try loading this page with nbviewer.org.</b></div><div class=\"sk-container\" hidden><div class=\"sk-item\"><div class=\"sk-estimator fitted sk-toggleable\"><input class=\"sk-toggleable__control sk-hidden--visually\" id=\"sk-estimator-id-1\" type=\"checkbox\" checked><label for=\"sk-estimator-id-1\" class=\"sk-toggleable__label fitted sk-toggleable__label-arrow fitted\">&nbsp;&nbsp;CountVectorizer<a class=\"sk-estimator-doc-link fitted\" rel=\"noreferrer\" target=\"_blank\" href=\"https://scikit-learn.org/1.5/modules/generated/sklearn.feature_extraction.text.CountVectorizer.html\">?<span>Documentation for CountVectorizer</span></a><span class=\"sk-estimator-doc-link fitted\">i<span>Fitted</span></span></label><div class=\"sk-toggleable__content fitted\"><pre>CountVectorizer(max_features=1024,\n",
              "                tokenizer=&lt;function word_tokenize at 0x78c1584decb0&gt;)</pre></div> </div></div></div></div>"
            ]
          },
          "metadata": {},
          "execution_count": 14
        }
      ],
      "source": [
        "# 最大特徵量 : 1024\n",
        "from sklearn.tree import DecisionTreeClassifier\n",
        "BOW_512 = CountVectorizer(max_features=1024, tokenizer=nltk.word_tokenize)\n",
        "BOW_512.fit(sample_train[\"text\"])"
      ]
    },
    {
      "cell_type": "code",
      "execution_count": 15,
      "metadata": {
        "colab": {
          "base_uri": "https://localhost:8080/"
        },
        "id": "3EOyYiyaljrx",
        "outputId": "97cd5957-b3cd-4d86-bb25-13f8ca716038"
      },
      "outputs": [
        {
          "output_type": "stream",
          "name": "stdout",
          "text": [
            "X_train.shape:  (280000, 1024)\n",
            "y_train.shape:  (280000,)\n",
            "X_test.shape:  (293554, 1024)\n",
            "y_test.shape:  (293554,)\n"
          ]
        }
      ],
      "source": [
        "# for a classificaiton problem, you need to provide both training & testing data\n",
        "X_train = BOW_512.transform(sample_train['text'])\n",
        "y_train = sample_train['emotion']\n",
        "X_test = BOW_512.transform(sample_val['text'])\n",
        "y_test = sample_val['emotion']\n",
        "## take a look at data dimension is a good habit :)\n",
        "print('X_train.shape: ', X_train.shape)\n",
        "print('y_train.shape: ', y_train.shape)\n",
        "print('X_test.shape: ', X_test.shape)\n",
        "print('y_test.shape: ', y_test.shape)"
      ]
    },
    {
      "cell_type": "markdown",
      "metadata": {
        "id": "Q9Dc9v-bD-qh"
      },
      "source": [
        "####訓練決策樹"
      ]
    },
    {
      "cell_type": "code",
      "execution_count": 16,
      "metadata": {
        "id": "II1SlMhhjMRD"
      },
      "outputs": [],
      "source": [
        "\n",
        "## build DecisionTree model\n",
        "DT_model = DecisionTreeClassifier(random_state=1, max_depth= 900)\n",
        "## training!\n",
        "DT_model = DT_model.fit(X_train, y_train)\n"
      ]
    },
    {
      "cell_type": "code",
      "execution_count": 17,
      "metadata": {
        "id": "wVLPZwBSE-2b",
        "colab": {
          "base_uri": "https://localhost:8080/"
        },
        "outputId": "d0cbfbf2-3d08-478a-f1b0-800741158c9e"
      },
      "outputs": [
        {
          "output_type": "execute_result",
          "data": {
            "text/plain": [
              "900"
            ]
          },
          "metadata": {},
          "execution_count": 17
        }
      ],
      "source": [
        "# 樹深度\n",
        "DT_model.get_depth()"
      ]
    },
    {
      "cell_type": "code",
      "execution_count": 18,
      "metadata": {
        "id": "Nqkb5tyPE7Bo",
        "colab": {
          "base_uri": "https://localhost:8080/"
        },
        "outputId": "7b2c0c49-17a9-4f0c-e963-1ee59252dc4b"
      },
      "outputs": [
        {
          "output_type": "stream",
          "name": "stdout",
          "text": [
            "training accuracy: 0.87\n",
            "testing accuracy: 0.33\n"
          ]
        }
      ],
      "source": [
        "## predict!\n",
        "y_train_pred = DT_model.predict(X_train)\n",
        "y_test_pred = DT_model.predict(X_test)\n",
        "## accuracy\n",
        "from sklearn.metrics import accuracy_score\n",
        "acc_train = accuracy_score(y_true=y_train, y_pred=y_train_pred)\n",
        "acc_test = accuracy_score(y_true=y_test, y_pred=y_test_pred)\n",
        "\n",
        "print('training accuracy: {}'.format(round(acc_train, 2)))\n",
        "print('testing accuracy: {}'.format(round(acc_test, 2)))"
      ]
    },
    {
      "cell_type": "markdown",
      "metadata": {
        "id": "wtE2pKfTpVRD"
      },
      "source": [
        "### DT測試集 :\n",
        "acc = 0.265 (最大特徵數:512)\n",
        "\n",
        "acc = 0.238 (最大特徵數:1024)"
      ]
    },
    {
      "cell_type": "code",
      "execution_count": 19,
      "metadata": {
        "id": "oGiXbG1lnxDp",
        "colab": {
          "base_uri": "https://localhost:8080/"
        },
        "outputId": "5227c83f-aa9a-4ee0-b651-715d316e8163"
      },
      "outputs": [
        {
          "output_type": "stream",
          "name": "stdout",
          "text": [
            "X_TEST:  (411972, 1024)\n"
          ]
        }
      ],
      "source": [
        "X_TEST = BOW_512.transform(test['text'])\n",
        "print('X_TEST: ', X_TEST.shape)"
      ]
    },
    {
      "cell_type": "code",
      "execution_count": 20,
      "metadata": {
        "id": "q05wk6MwpiN7",
        "colab": {
          "base_uri": "https://localhost:8080/"
        },
        "outputId": "79c538bc-312e-444d-bdff-eb1bf19a14c2"
      },
      "outputs": [
        {
          "output_type": "execute_result",
          "data": {
            "text/plain": [
              "array(['disgust', 'sadness', 'disgust', ..., 'joy', 'fear', 'anger'],\n",
              "      dtype=object)"
            ]
          },
          "metadata": {},
          "execution_count": 20
        }
      ],
      "source": [
        "y_TEST_pred = DT_model.predict(X_TEST)\n",
        "y_TEST_pred"
      ]
    },
    {
      "cell_type": "code",
      "execution_count": 21,
      "metadata": {
        "id": "BITnpPcoqWyy"
      },
      "outputs": [],
      "source": [
        "# Assuming y_TEST_pred and test[\"tweet_id\"] are already defined from the previous code\n",
        "# Create the DataFrame\n",
        "result_df = pd.DataFrame({'id': test['tweet_id'], 'emotion': y_TEST_pred})\n",
        "# Save the DataFrame to a CSV file\n",
        "result_df.to_csv('result.csv', index=False)"
      ]
    },
    {
      "cell_type": "markdown",
      "metadata": {
        "id": "YpxHhAeCVP7J"
      },
      "source": [
        "### 神經網路:資料進行獨熱編碼，並訓練神經網路\n",
        "acc : 0.326 (訓練資料為每個類別35000筆)\n",
        "\n",
        "acc : 0.351 (依比例抽樣，抽原訓練集資料一半)"
      ]
    },
    {
      "cell_type": "code",
      "execution_count": 22,
      "metadata": {
        "id": "7rOjio45UWDk",
        "colab": {
          "base_uri": "https://localhost:8080/"
        },
        "outputId": "b79d7528-ce75-44c6-a780-844849c6b55d"
      },
      "outputs": [
        {
          "output_type": "stream",
          "name": "stdout",
          "text": [
            "check label:  ['anger' 'anticipation' 'disgust' 'fear' 'joy' 'sadness' 'surprise'\n",
            " 'trust']\n",
            "\n",
            "## Before convert\n",
            "y_train[0:4]:\n",
            " 0            fear\n",
            "1            fear\n",
            "2    anticipation\n",
            "3    anticipation\n",
            "Name: emotion, dtype: object\n",
            "\n",
            "y_train.shape:  (280000,)\n",
            "y_test.shape:  (293554,)\n",
            "\n",
            "\n",
            "## After convert\n",
            "y_train[0:4]:\n",
            " [[0. 0. 0. 1. 0. 0. 0. 0.]\n",
            " [0. 0. 0. 1. 0. 0. 0. 0.]\n",
            " [0. 1. 0. 0. 0. 0. 0. 0.]\n",
            " [0. 1. 0. 0. 0. 0. 0. 0.]]\n",
            "\n",
            "y_train.shape:  (280000, 8)\n",
            "y_test.shape:  (293554, 8)\n"
          ]
        }
      ],
      "source": [
        "import keras\n",
        "from sklearn.preprocessing import LabelEncoder\n",
        "label_encoder = LabelEncoder()\n",
        "label_encoder.fit(y_train)\n",
        "print('check label: ', label_encoder.classes_)\n",
        "print('\\n## Before convert')\n",
        "print('y_train[0:4]:\\n', y_train[0:4])\n",
        "print('\\ny_train.shape: ', y_train.shape)\n",
        "print('y_test.shape: ', y_test.shape)\n",
        "def label_encode(le, labels):\n",
        " enc = le.transform(labels)\n",
        " return keras.utils.to_categorical(enc)\n",
        "def label_decode(le, one_hot_label):\n",
        " dec = np.argmax(one_hot_label, axis=1)\n",
        " return le.inverse_transform(dec)\n",
        "y_train = label_encode(label_encoder, y_train)\n",
        "y_test = label_encode(label_encoder, y_test)\n",
        "print('\\n\\n## After convert')\n",
        "print('y_train[0:4]:\\n', y_train[0:4])\n",
        "print('\\ny_train.shape: ', y_train.shape)\n",
        "print('y_test.shape: ', y_test.shape)"
      ]
    },
    {
      "cell_type": "code",
      "execution_count": 23,
      "metadata": {
        "id": "HiLSSp2eUvcu",
        "colab": {
          "base_uri": "https://localhost:8080/"
        },
        "outputId": "2f6cfa50-1bad-4484-d748-d596af2e6af4"
      },
      "outputs": [
        {
          "output_type": "stream",
          "name": "stdout",
          "text": [
            "input_shape:  1024\n",
            "output_shape:  8\n"
          ]
        }
      ],
      "source": [
        "input_shape = X_train.shape[1]\n",
        "print('input_shape: ', input_shape)\n",
        "output_shape = len(label_encoder.classes_)\n",
        "print('output_shape: ', output_shape)"
      ]
    },
    {
      "cell_type": "code",
      "execution_count": 24,
      "metadata": {
        "id": "wZo4XchKVN2u",
        "colab": {
          "base_uri": "https://localhost:8080/"
        },
        "outputId": "7b6fa192-5b3e-494e-94c0-435a8a5769a6"
      },
      "outputs": [
        {
          "output_type": "stream",
          "name": "stdout",
          "text": [
            "Requirement already satisfied: keras in /usr/local/lib/python3.10/dist-packages (3.5.0)\n",
            "Requirement already satisfied: absl-py in /usr/local/lib/python3.10/dist-packages (from keras) (1.4.0)\n",
            "Requirement already satisfied: numpy in /usr/local/lib/python3.10/dist-packages (from keras) (1.26.4)\n",
            "Requirement already satisfied: rich in /usr/local/lib/python3.10/dist-packages (from keras) (13.9.4)\n",
            "Requirement already satisfied: namex in /usr/local/lib/python3.10/dist-packages (from keras) (0.0.8)\n",
            "Requirement already satisfied: h5py in /usr/local/lib/python3.10/dist-packages (from keras) (3.12.1)\n",
            "Requirement already satisfied: optree in /usr/local/lib/python3.10/dist-packages (from keras) (0.13.1)\n",
            "Requirement already satisfied: ml-dtypes in /usr/local/lib/python3.10/dist-packages (from keras) (0.4.1)\n",
            "Requirement already satisfied: packaging in /usr/local/lib/python3.10/dist-packages (from keras) (24.2)\n",
            "Requirement already satisfied: typing-extensions>=4.5.0 in /usr/local/lib/python3.10/dist-packages (from optree->keras) (4.12.2)\n",
            "Requirement already satisfied: markdown-it-py>=2.2.0 in /usr/local/lib/python3.10/dist-packages (from rich->keras) (3.0.0)\n",
            "Requirement already satisfied: pygments<3.0.0,>=2.13.0 in /usr/local/lib/python3.10/dist-packages (from rich->keras) (2.18.0)\n",
            "Requirement already satisfied: mdurl~=0.1 in /usr/local/lib/python3.10/dist-packages (from markdown-it-py>=2.2.0->rich->keras) (0.1.2)\n"
          ]
        }
      ],
      "source": [
        "!pip3 install keras"
      ]
    },
    {
      "cell_type": "code",
      "execution_count": 25,
      "metadata": {
        "id": "sEdKyKdAU1tM",
        "colab": {
          "base_uri": "https://localhost:8080/",
          "height": 353
        },
        "outputId": "71530797-02f2-4c77-b5f2-22248f71750e"
      },
      "outputs": [
        {
          "output_type": "display_data",
          "data": {
            "text/plain": [
              "\u001b[1mModel: \"functional\"\u001b[0m\n"
            ],
            "text/html": [
              "<pre style=\"white-space:pre;overflow-x:auto;line-height:normal;font-family:Menlo,'DejaVu Sans Mono',consolas,'Courier New',monospace\"><span style=\"font-weight: bold\">Model: \"functional\"</span>\n",
              "</pre>\n"
            ]
          },
          "metadata": {}
        },
        {
          "output_type": "display_data",
          "data": {
            "text/plain": [
              "┏━━━━━━━━━━━━━━━━━━━━━━━━━━━━━━━━━━━━━━┳━━━━━━━━━━━━━━━━━━━━━━━━━━━━━┳━━━━━━━━━━━━━━━━━┓\n",
              "┃\u001b[1m \u001b[0m\u001b[1mLayer (type)                        \u001b[0m\u001b[1m \u001b[0m┃\u001b[1m \u001b[0m\u001b[1mOutput Shape               \u001b[0m\u001b[1m \u001b[0m┃\u001b[1m \u001b[0m\u001b[1m        Param #\u001b[0m\u001b[1m \u001b[0m┃\n",
              "┡━━━━━━━━━━━━━━━━━━━━━━━━━━━━━━━━━━━━━━╇━━━━━━━━━━━━━━━━━━━━━━━━━━━━━╇━━━━━━━━━━━━━━━━━┩\n",
              "│ input_layer (\u001b[38;5;33mInputLayer\u001b[0m)             │ (\u001b[38;5;45mNone\u001b[0m, \u001b[38;5;34m1024\u001b[0m)                │               \u001b[38;5;34m0\u001b[0m │\n",
              "├──────────────────────────────────────┼─────────────────────────────┼─────────────────┤\n",
              "│ dense (\u001b[38;5;33mDense\u001b[0m)                        │ (\u001b[38;5;45mNone\u001b[0m, \u001b[38;5;34m64\u001b[0m)                  │          \u001b[38;5;34m65,600\u001b[0m │\n",
              "├──────────────────────────────────────┼─────────────────────────────┼─────────────────┤\n",
              "│ re_lu (\u001b[38;5;33mReLU\u001b[0m)                         │ (\u001b[38;5;45mNone\u001b[0m, \u001b[38;5;34m64\u001b[0m)                  │               \u001b[38;5;34m0\u001b[0m │\n",
              "├──────────────────────────────────────┼─────────────────────────────┼─────────────────┤\n",
              "│ dense_1 (\u001b[38;5;33mDense\u001b[0m)                      │ (\u001b[38;5;45mNone\u001b[0m, \u001b[38;5;34m64\u001b[0m)                  │           \u001b[38;5;34m4,160\u001b[0m │\n",
              "├──────────────────────────────────────┼─────────────────────────────┼─────────────────┤\n",
              "│ re_lu_1 (\u001b[38;5;33mReLU\u001b[0m)                       │ (\u001b[38;5;45mNone\u001b[0m, \u001b[38;5;34m64\u001b[0m)                  │               \u001b[38;5;34m0\u001b[0m │\n",
              "├──────────────────────────────────────┼─────────────────────────────┼─────────────────┤\n",
              "│ dense_2 (\u001b[38;5;33mDense\u001b[0m)                      │ (\u001b[38;5;45mNone\u001b[0m, \u001b[38;5;34m8\u001b[0m)                   │             \u001b[38;5;34m520\u001b[0m │\n",
              "├──────────────────────────────────────┼─────────────────────────────┼─────────────────┤\n",
              "│ softmax (\u001b[38;5;33mSoftmax\u001b[0m)                    │ (\u001b[38;5;45mNone\u001b[0m, \u001b[38;5;34m8\u001b[0m)                   │               \u001b[38;5;34m0\u001b[0m │\n",
              "└──────────────────────────────────────┴─────────────────────────────┴─────────────────┘\n"
            ],
            "text/html": [
              "<pre style=\"white-space:pre;overflow-x:auto;line-height:normal;font-family:Menlo,'DejaVu Sans Mono',consolas,'Courier New',monospace\">┏━━━━━━━━━━━━━━━━━━━━━━━━━━━━━━━━━━━━━━┳━━━━━━━━━━━━━━━━━━━━━━━━━━━━━┳━━━━━━━━━━━━━━━━━┓\n",
              "┃<span style=\"font-weight: bold\"> Layer (type)                         </span>┃<span style=\"font-weight: bold\"> Output Shape                </span>┃<span style=\"font-weight: bold\">         Param # </span>┃\n",
              "┡━━━━━━━━━━━━━━━━━━━━━━━━━━━━━━━━━━━━━━╇━━━━━━━━━━━━━━━━━━━━━━━━━━━━━╇━━━━━━━━━━━━━━━━━┩\n",
              "│ input_layer (<span style=\"color: #0087ff; text-decoration-color: #0087ff\">InputLayer</span>)             │ (<span style=\"color: #00d7ff; text-decoration-color: #00d7ff\">None</span>, <span style=\"color: #00af00; text-decoration-color: #00af00\">1024</span>)                │               <span style=\"color: #00af00; text-decoration-color: #00af00\">0</span> │\n",
              "├──────────────────────────────────────┼─────────────────────────────┼─────────────────┤\n",
              "│ dense (<span style=\"color: #0087ff; text-decoration-color: #0087ff\">Dense</span>)                        │ (<span style=\"color: #00d7ff; text-decoration-color: #00d7ff\">None</span>, <span style=\"color: #00af00; text-decoration-color: #00af00\">64</span>)                  │          <span style=\"color: #00af00; text-decoration-color: #00af00\">65,600</span> │\n",
              "├──────────────────────────────────────┼─────────────────────────────┼─────────────────┤\n",
              "│ re_lu (<span style=\"color: #0087ff; text-decoration-color: #0087ff\">ReLU</span>)                         │ (<span style=\"color: #00d7ff; text-decoration-color: #00d7ff\">None</span>, <span style=\"color: #00af00; text-decoration-color: #00af00\">64</span>)                  │               <span style=\"color: #00af00; text-decoration-color: #00af00\">0</span> │\n",
              "├──────────────────────────────────────┼─────────────────────────────┼─────────────────┤\n",
              "│ dense_1 (<span style=\"color: #0087ff; text-decoration-color: #0087ff\">Dense</span>)                      │ (<span style=\"color: #00d7ff; text-decoration-color: #00d7ff\">None</span>, <span style=\"color: #00af00; text-decoration-color: #00af00\">64</span>)                  │           <span style=\"color: #00af00; text-decoration-color: #00af00\">4,160</span> │\n",
              "├──────────────────────────────────────┼─────────────────────────────┼─────────────────┤\n",
              "│ re_lu_1 (<span style=\"color: #0087ff; text-decoration-color: #0087ff\">ReLU</span>)                       │ (<span style=\"color: #00d7ff; text-decoration-color: #00d7ff\">None</span>, <span style=\"color: #00af00; text-decoration-color: #00af00\">64</span>)                  │               <span style=\"color: #00af00; text-decoration-color: #00af00\">0</span> │\n",
              "├──────────────────────────────────────┼─────────────────────────────┼─────────────────┤\n",
              "│ dense_2 (<span style=\"color: #0087ff; text-decoration-color: #0087ff\">Dense</span>)                      │ (<span style=\"color: #00d7ff; text-decoration-color: #00d7ff\">None</span>, <span style=\"color: #00af00; text-decoration-color: #00af00\">8</span>)                   │             <span style=\"color: #00af00; text-decoration-color: #00af00\">520</span> │\n",
              "├──────────────────────────────────────┼─────────────────────────────┼─────────────────┤\n",
              "│ softmax (<span style=\"color: #0087ff; text-decoration-color: #0087ff\">Softmax</span>)                    │ (<span style=\"color: #00d7ff; text-decoration-color: #00d7ff\">None</span>, <span style=\"color: #00af00; text-decoration-color: #00af00\">8</span>)                   │               <span style=\"color: #00af00; text-decoration-color: #00af00\">0</span> │\n",
              "└──────────────────────────────────────┴─────────────────────────────┴─────────────────┘\n",
              "</pre>\n"
            ]
          },
          "metadata": {}
        },
        {
          "output_type": "display_data",
          "data": {
            "text/plain": [
              "\u001b[1m Total params: \u001b[0m\u001b[38;5;34m70,280\u001b[0m (274.53 KB)\n"
            ],
            "text/html": [
              "<pre style=\"white-space:pre;overflow-x:auto;line-height:normal;font-family:Menlo,'DejaVu Sans Mono',consolas,'Courier New',monospace\"><span style=\"font-weight: bold\"> Total params: </span><span style=\"color: #00af00; text-decoration-color: #00af00\">70,280</span> (274.53 KB)\n",
              "</pre>\n"
            ]
          },
          "metadata": {}
        },
        {
          "output_type": "display_data",
          "data": {
            "text/plain": [
              "\u001b[1m Trainable params: \u001b[0m\u001b[38;5;34m70,280\u001b[0m (274.53 KB)\n"
            ],
            "text/html": [
              "<pre style=\"white-space:pre;overflow-x:auto;line-height:normal;font-family:Menlo,'DejaVu Sans Mono',consolas,'Courier New',monospace\"><span style=\"font-weight: bold\"> Trainable params: </span><span style=\"color: #00af00; text-decoration-color: #00af00\">70,280</span> (274.53 KB)\n",
              "</pre>\n"
            ]
          },
          "metadata": {}
        },
        {
          "output_type": "display_data",
          "data": {
            "text/plain": [
              "\u001b[1m Non-trainable params: \u001b[0m\u001b[38;5;34m0\u001b[0m (0.00 B)\n"
            ],
            "text/html": [
              "<pre style=\"white-space:pre;overflow-x:auto;line-height:normal;font-family:Menlo,'DejaVu Sans Mono',consolas,'Courier New',monospace\"><span style=\"font-weight: bold\"> Non-trainable params: </span><span style=\"color: #00af00; text-decoration-color: #00af00\">0</span> (0.00 B)\n",
              "</pre>\n"
            ]
          },
          "metadata": {}
        }
      ],
      "source": [
        "from keras.models import Model\n",
        "from keras.layers import Input, Dense\n",
        "from keras.layers import ReLU, Softmax\n",
        "# input layer\n",
        "model_input = Input(shape=(input_shape, )) # 500\n",
        "X = model_input\n",
        "# 1st hidden layer\n",
        "X_W1 = Dense(units=64)(X) # 64\n",
        "H1 = ReLU()(X_W1)\n",
        "# 2nd hidden layer\n",
        "H1_W2 = Dense(units=64)(H1) # 64\n",
        "H2 = ReLU()(H1_W2)\n",
        "# output layer\n",
        "H2_W3 = Dense(units=output_shape)(H2) # 4\n",
        "H3 = Softmax()(H2_W3)\n",
        "model_output = H3\n",
        "# create model\n",
        "model = Model(inputs=[model_input], outputs=[model_output])\n",
        "# loss function & optimizer\n",
        "model.compile(optimizer='adam',\n",
        " loss='categorical_crossentropy',\n",
        " metrics=['accuracy'])\n",
        "# show model construction\n",
        "model.summary()"
      ]
    },
    {
      "cell_type": "code",
      "execution_count": 27,
      "metadata": {
        "id": "36J1F2tMU5kZ",
        "colab": {
          "base_uri": "https://localhost:8080/"
        },
        "outputId": "78873aa8-0d4b-469b-b572-b4d7cf6f2d98"
      },
      "outputs": [
        {
          "output_type": "stream",
          "name": "stdout",
          "text": [
            "Epoch 1/3\n",
            "\u001b[1m8750/8750\u001b[0m \u001b[32m━━━━━━━━━━━━━━━━━━━━\u001b[0m\u001b[37m\u001b[0m \u001b[1m127s\u001b[0m 14ms/step - accuracy: 0.4217 - loss: 1.5499 - val_accuracy: 0.3791 - val_loss: 1.6463\n",
            "Epoch 2/3\n",
            "\u001b[1m8750/8750\u001b[0m \u001b[32m━━━━━━━━━━━━━━━━━━━━\u001b[0m\u001b[37m\u001b[0m \u001b[1m72s\u001b[0m 6ms/step - accuracy: 0.4309 - loss: 1.5298 - val_accuracy: 0.3737 - val_loss: 1.6447\n",
            "Epoch 3/3\n",
            "\u001b[1m8750/8750\u001b[0m \u001b[32m━━━━━━━━━━━━━━━━━━━━\u001b[0m\u001b[37m\u001b[0m \u001b[1m89s\u001b[0m 7ms/step - accuracy: 0.4361 - loss: 1.5148 - val_accuracy: 0.3807 - val_loss: 1.6484\n",
            "training finish\n"
          ]
        }
      ],
      "source": [
        "from keras.callbacks import CSVLogger\n",
        "csv_logger = CSVLogger('/content/drive/MyDrive/colab/training_log.csv',append=True)\n",
        "# training setting\n",
        "epochs = 3\n",
        "batch_size = 32\n",
        "# training!\n",
        "history = model.fit(X_train, y_train,\n",
        " epochs=epochs,\n",
        " batch_size=batch_size,\n",
        " callbacks=[csv_logger],\n",
        " validation_data = (X_test, y_test))\n",
        "print('training finish')"
      ]
    },
    {
      "cell_type": "code",
      "execution_count": 28,
      "metadata": {
        "id": "9qfr3vZRU-VX",
        "colab": {
          "base_uri": "https://localhost:8080/"
        },
        "outputId": "ed6b3e02-30b6-4d82-96d2-f112a326d362"
      },
      "outputs": [
        {
          "output_type": "stream",
          "name": "stdout",
          "text": [
            "\u001b[1m2294/2294\u001b[0m \u001b[32m━━━━━━━━━━━━━━━━━━━━\u001b[0m\u001b[37m\u001b[0m \u001b[1m10s\u001b[0m 4ms/step\n",
            "[[0.09202999 0.08231249 0.14128612 0.07459322 0.14656286 0.12251905\n",
            "  0.2064827  0.13421357]\n",
            " [0.09068541 0.23379587 0.17137572 0.10877518 0.08807896 0.06879965\n",
            "  0.12174214 0.11674698]\n",
            " [0.00365022 0.00412477 0.00856988 0.01743648 0.92084265 0.03542193\n",
            "  0.00743165 0.00252244]\n",
            " [0.0644728  0.07675222 0.17369924 0.08427928 0.10015707 0.17547704\n",
            "  0.21084014 0.1143222 ]\n",
            " [0.05065221 0.03065888 0.02508729 0.04999672 0.29469866 0.04551788\n",
            "  0.08888587 0.4145025 ]]\n",
            "['surprise' 'anticipation' 'joy' 'surprise' 'trust']\n",
            "testing accuracy: 0.38\n"
          ]
        }
      ],
      "source": [
        "import numpy as np\n",
        "\n",
        "## predict\n",
        "pred_result = model.predict(X_test, batch_size=128)\n",
        "print(pred_result[:5])\n",
        "pred_result = label_decode(label_encoder, pred_result)\n",
        "print(pred_result[:5])\n",
        "\n",
        "from sklearn.metrics import accuracy_score\n",
        "print('testing accuracy: {}'.format(round(accuracy_score(label_decode(label_encoder, y_test), pred_result), 2)))"
      ]
    },
    {
      "cell_type": "code",
      "execution_count": 29,
      "metadata": {
        "id": "_mXA8V0zvCpu",
        "colab": {
          "base_uri": "https://localhost:8080/"
        },
        "outputId": "75ea3288-8599-4867-c4fa-f96c7a474346"
      },
      "outputs": [
        {
          "output_type": "stream",
          "name": "stdout",
          "text": [
            "X_TEST:  (411972, 1024)\n",
            "\u001b[1m3219/3219\u001b[0m \u001b[32m━━━━━━━━━━━━━━━━━━━━\u001b[0m\u001b[37m\u001b[0m \u001b[1m15s\u001b[0m 5ms/step\n",
            "[[0.08485811 0.08729135 0.1404956  0.12366616 0.16344425 0.11785492\n",
            "  0.18982232 0.09256732]\n",
            " [0.02605056 0.02720112 0.20928279 0.22951382 0.01350217 0.3666982\n",
            "  0.08510321 0.04264816]\n",
            " [0.10508347 0.01856778 0.4152024  0.02576818 0.03097306 0.13484854\n",
            "  0.23459582 0.03496077]\n",
            " [0.12214363 0.13051258 0.18933398 0.06822694 0.09276421 0.13676655\n",
            "  0.14189321 0.11835881]\n",
            " [0.29946622 0.05837617 0.2876106  0.07117387 0.0220165  0.14153588\n",
            "  0.0666195  0.05320135]]\n"
          ]
        }
      ],
      "source": [
        "X_TEST = BOW_512.transform(test['text'])\n",
        "print('X_TEST: ', X_TEST.shape)\n",
        "\n",
        "pred_result = model.predict(X_TEST, batch_size=128)\n",
        "print(pred_result[:5])\n",
        "pred_result = label_decode(label_encoder, pred_result)"
      ]
    },
    {
      "cell_type": "code",
      "execution_count": 30,
      "metadata": {
        "id": "F-tgxMZXvjic"
      },
      "outputs": [],
      "source": [
        "# Create the DataFrame\n",
        "result_df = pd.DataFrame({'id': test['tweet_id'], 'emotion': pred_result})\n",
        "# Save the DataFrame to a CSV file\n",
        "result_df.to_csv('/content/drive/MyDrive/colab/result.csv', index=False)"
      ]
    },
    {
      "cell_type": "markdown",
      "metadata": {
        "id": "J8IcqHmr2_yM"
      },
      "source": [
        "### LLM embedding : 將資料進行emembedding 後訓練神經網路\n",
        "acc : 0 (embedding時間過長，跑不完)\n",
        "\n",
        "利用llama3.2做embedding\n"
      ]
    },
    {
      "cell_type": "code",
      "execution_count": null,
      "metadata": {
        "id": "Gw9GAgSkyivn"
      },
      "outputs": [],
      "source": [
        "!pip install ollama"
      ]
    },
    {
      "cell_type": "code",
      "execution_count": null,
      "metadata": {
        "id": "r9hkVg-9_k2J"
      },
      "outputs": [],
      "source": [
        "!curl -fsSL https://ollama.com/install.sh | sh\n",
        "import subprocess\n",
        "process = subprocess.Popen(\"ollama serve\", shell=True) #runs on a different thread"
      ]
    },
    {
      "cell_type": "code",
      "execution_count": null,
      "metadata": {
        "id": "H9reJ6vI_eed"
      },
      "outputs": [],
      "source": [
        "!ollama pull llama3.2"
      ]
    },
    {
      "cell_type": "code",
      "execution_count": null,
      "metadata": {
        "id": "MuLkQt4I2--u"
      },
      "outputs": [],
      "source": [
        "import pandas as pd\n",
        "import ollama\n",
        "# Let's copy our dataframes for training and testing\n",
        "df_train = sample_train\n",
        "df_val = sample_val\n",
        "# Define a function to generate embeddings\n",
        "def generate_embeddings(row,text_column_name='text'):\n",
        " embeddings = ollama.embeddings(\n",
        " model='llama3.2',\n",
        " prompt=row[text_column_name],\n",
        " )\n",
        " return embeddings[\"embedding\"]"
      ]
    },
    {
      "cell_type": "code",
      "execution_count": null,
      "metadata": {
        "id": "DXbapQxE574B"
      },
      "outputs": [],
      "source": [
        "column_name = 'text'\n",
        "# Apply the function to the specified column and store the result in a new column 'embeddings'\n",
        "df_train['embeddings'] = df_train.apply(lambda row: generate_embeddings(row, column_name), axis=1)\n",
        "df_val['embeddings'] = df_val.apply(lambda row: generate_embeddings(row, column_name), axis=1)"
      ]
    },
    {
      "cell_type": "code",
      "execution_count": null,
      "metadata": {
        "id": "lZ2R5a_66E-w"
      },
      "outputs": [],
      "source": [
        "print(df_train)\n",
        "print(df_val)"
      ]
    },
    {
      "cell_type": "code",
      "execution_count": null,
      "metadata": {
        "id": "FGJlxI_vAdz9"
      },
      "outputs": [],
      "source": [
        "X_llama_train = np.vstack(df_train[\"embeddings\"].to_numpy()) #Defining our train set\n",
        "X_llama_test = np.vstack(df_val[\"embeddings\"].to_numpy()) #Defining our test set\n",
        "print(X_llama_train.shape) #(Number of data, Llama 3.2 embedding size)\n",
        "print(X_llama_test.shape) #(Number of data, Llama 3.2 embedding size)"
      ]
    },
    {
      "cell_type": "code",
      "execution_count": null,
      "metadata": {
        "id": "ShHHEnclAlLs"
      },
      "outputs": [],
      "source": [
        "#One-hot encoding our labels\n",
        "y_train_llama = label_encode(label_encoder, y_train)\n",
        "y_test_llama = label_encode(label_encoder, y_test)\n",
        "\n",
        "# I/O check\n",
        "input_shape_llama = len(X_llama_train[0])\n",
        "print('input_shape: ', input_shape_llama)\n",
        "output_shape = len(label_encoder.classes_)\n",
        "print('output_shape: ', output_shape)"
      ]
    },
    {
      "cell_type": "code",
      "execution_count": null,
      "metadata": {
        "id": "QvRDEKKgAsAQ"
      },
      "outputs": [],
      "source": [
        "#We try the same Neural Network Model Again\n",
        "from keras.models import Model\n",
        "from keras.layers import Input, Dense\n",
        "from keras.layers import ReLU, Softmax\n",
        "# input layer\n",
        "model_input = Input(shape=(input_shape_llama, )) # 3072\n",
        "X = model_input\n",
        "# 1st hidden layer\n",
        "X_W1 = Dense(units=64)(X) # 64\n",
        "H1 = ReLU()(X_W1)\n",
        "# 2nd hidden layer\n",
        "H1_W2 = Dense(units=64)(H1) # 64\n",
        "H2 = ReLU()(H1_W2)\n",
        "# output layer\n",
        "H2_W3 = Dense(units=output_shape)(H2) # 4\n",
        "H3 = Softmax()(H2_W3)\n",
        "model_output = H3\n",
        "# create model\n",
        "model = Model(inputs=[model_input], outputs=[model_output])\n",
        "# loss function & optimizer\n",
        "model.compile(optimizer='adam',\n",
        " loss='categorical_crossentropy',\n",
        " metrics=['accuracy'])\n",
        "# show model construction\n",
        "model.summary() #We can notice that our parameter numbers went up because of the increase in the dimension of our input"
      ]
    },
    {
      "cell_type": "code",
      "execution_count": null,
      "metadata": {
        "id": "YnjmHKCtAyey"
      },
      "outputs": [],
      "source": [
        "from keras.callbacks import CSVLogger\n",
        "csv_logger = CSVLogger('/content/drive/MyDrive/colab/training_log.csv',append=True)\n",
        "# training setting\n",
        "epochs = 25\n",
        "batch_size = 32\n",
        "# training!\n",
        "history = model.fit(X_llama_train, y_train_llama,\n",
        " epochs=epochs,\n",
        " batch_size=batch_size,\n",
        " callbacks=[csv_logger],\n",
        " validation_data = (X_llama_test, y_test_llama))\n",
        "print('training finish')"
      ]
    },
    {
      "cell_type": "code",
      "execution_count": null,
      "metadata": {
        "id": "WDmfCG1mBOcb"
      },
      "outputs": [],
      "source": [
        "pred_result = model.predict(X_llama_test, batch_size=128)\n",
        "pred_result[:5]\n",
        "pred_result = label_decode(label_encoder, pred_result)\n",
        "pred_result[:5]\n",
        "from sklearn.metrics import accuracy_score\n",
        "#Accuracy\n",
        "print('testing accuracy: {}'.format(round(accuracy_score(label_decode(label_encoder, y_test_llama), pred_result), 2)))"
      ]
    },
    {
      "cell_type": "code",
      "execution_count": null,
      "metadata": {
        "id": "LTNpRRzpBUZs"
      },
      "outputs": [],
      "source": [
        "#Let's take a look at the training log\n",
        "training_log = pd.DataFrame()\n",
        "training_log = pd.read_csv(\"/content/drive/MyDrive/colab/training_log.csv\")\n",
        "training_log"
      ]
    },
    {
      "cell_type": "code",
      "execution_count": null,
      "metadata": {
        "id": "DDL0YrqYBXjQ"
      },
      "outputs": [],
      "source": [
        "# Create the DataFrame\n",
        "result_df = pd.DataFrame({'id': test['tweet_id'], 'emotion': pred_result})\n",
        "# Save the DataFrame to a CSV file\n",
        "result_df.to_csv('/content/drive/MyDrive/colab/result.csv', index=False)"
      ]
    }
  ],
  "metadata": {
    "colab": {
      "provenance": []
    },
    "kernelspec": {
      "display_name": "Python 3",
      "name": "python3"
    },
    "language_info": {
      "name": "python"
    }
  },
  "nbformat": 4,
  "nbformat_minor": 0
}